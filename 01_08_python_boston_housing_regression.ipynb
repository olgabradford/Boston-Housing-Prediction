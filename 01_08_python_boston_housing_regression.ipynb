{
 "cells": [
  {
   "cell_type": "markdown",
   "metadata": {},
   "source": [
    "# Boston Housing dataset    \n",
    "\n",
    "MY Tableau Story: https://public.tableau.com/profile/olga.bradford#!/vizhome/BostonHousingPrediction_updated/main_story\n",
    "\n",
    "\n",
    "Data is from https://www.cs.toronto.edu/~delve/data/boston/bostonDetail.html\n",
    "Tableau Story for this data exploration and house data prediction could be found on:\n",
    "\n",
    "\n",
    "\n",
    "## Variables\n",
    "There are 14 attributes in each case of the dataset. They are: <br>\n",
    "CRIM - per capita crime rate by town <br>\n",
    "ZN - proportion of residential land zoned for lots over 25,000 sq.ft.<br>\n",
    "INDUS - proportion of non-retail business acres per town.<br>\n",
    "CHAS - Charles River dummy variable (1 if tract bounds river; 0 otherwise)<br>\n",
    "NOX - nitric oxides concentration (parts per 10 million)<br>\n",
    "RM - average number of rooms per dwelling<br>\n",
    "AGE - proportion of owner-occupied units built prior to 1940<br>\n",
    "DIS - weighted distances to five Boston employment centres<br>\n",
    "RAD - index of accessibility to radial highways <br>\n",
    "TAX - full-value property-tax rate per 10.000 dollars <br>\n",
    "PTRATIO - pupil-teacher ratio by town <br>\n",
    "B - 1000(Bk - 0.63)^2 where Bk is the proportion of blacks by town <br>\n",
    "LSTAT - % lower status of the population<br>\n",
    "MEDV - Median value of owner-occupied homes in 1000's dollars<br>\n",
    "\n",
    "## Project: Predicting Boston Housing Prices\n",
    "\n",
    "This project was performed as part of Machine Learning Nanodegree from Udacity.\n",
    "\n",
    "Project planning:\n",
    "\n",
    "1. Preprocessing and Data exploration\n",
    "\n",
    "2. Feature selection (cross-corelation, SelectKBest)\n",
    "\n",
    "3. Best Algorithms selection (KNN, GBM, Random Forest)\n",
    "\n",
    "4. Algorithm 1: Tuning K-Nearest Neighbors(KNN) on scaled data\n",
    "\n",
    "5. Algorithm 2: Tuning GBM on scaled data\n",
    "\n",
    "6. Algorithm 3: Tuning Decision tree\n",
    "\n",
    "\n",
    "\n",
    "## Getting Started\n",
    "In this project, you will evaluate the performance and predictive power of a model that has been trained and tested on data collected from homes in suburbs of Boston, Massachusetts. A model trained on this data that is seen as a good fit could then be used to make certain predictions about a home — in particular, its monetary value (MEDV in dataset). This model would prove to be invaluable for someone like a real estate agent who could make use of such information on a daily basis.\n",
    "\n",
    "The dataset for this project originates from the UCI Machine Learning Repository. The Boston housing data was collected in 1978 and each of the 506 entries represent aggregated data about 14 features for homes from various suburbs in Boston, Massachusetts. For the purposes of this project, the following preprocessing steps have been made to the dataset:\n",
    "\n",
    "\n",
    "\n",
    "\n"
   ]
  },
  {
   "cell_type": "markdown",
   "metadata": {},
   "source": [
    "## 1. Preprocessing\n",
    "\n"
   ]
  },
  {
   "cell_type": "code",
   "execution_count": 1,
   "metadata": {},
   "outputs": [],
   "source": [
    "# Import libraries necessary for this project\n",
    "import numpy as np\n",
    "from numpy import arange\n",
    "from matplotlib import pyplot\n",
    "import seaborn as sns\n",
    "import pandas as pd\n",
    "from pandas import read_csv\n",
    "from pandas import set_option\n",
    "from pandas.tools.plotting import scatter_matrix\n",
    "from sklearn.preprocessing import StandardScaler\n",
    "from sklearn.model_selection import train_test_split\n",
    "from sklearn.model_selection import KFold\n",
    "from sklearn.model_selection import cross_val_score\n",
    "from sklearn.model_selection import GridSearchCV\n",
    "from sklearn.linear_model import LinearRegression\n",
    "from sklearn.linear_model import Lasso\n",
    "from sklearn.linear_model import ElasticNet\n",
    "from sklearn.tree import DecisionTreeRegressor\n",
    "from sklearn.neighbors import KNeighborsRegressor\n",
    "from sklearn.svm import SVR\n",
    "from sklearn.pipeline import Pipeline\n",
    "from sklearn.ensemble import RandomForestRegressor\n",
    "from sklearn.ensemble import GradientBoostingRegressor\n",
    "from sklearn.ensemble import ExtraTreesRegressor\n",
    "from sklearn.ensemble import AdaBoostRegressor\n",
    "from sklearn.metrics import mean_squared_error\n",
    "from sklearn.ensemble import RandomForestRegressor\n",
    "\n",
    "# Import supplementary visualizations code visuals.py\n",
    "#import visuals as vs\n",
    "\n",
    "# Pretty display for notebooks\n",
    "%matplotlib inline\n",
    "\n",
    "# Load the Boston housing dataset\n",
    "data = pd.read_csv('boston_test.csv')\n",
    "\n"
   ]
  },
  {
   "cell_type": "code",
   "execution_count": 2,
   "metadata": {},
   "outputs": [
    {
     "data": {
      "text/html": [
       "<div>\n",
       "<style scoped>\n",
       "    .dataframe tbody tr th:only-of-type {\n",
       "        vertical-align: middle;\n",
       "    }\n",
       "\n",
       "    .dataframe tbody tr th {\n",
       "        vertical-align: top;\n",
       "    }\n",
       "\n",
       "    .dataframe thead th {\n",
       "        text-align: right;\n",
       "    }\n",
       "</style>\n",
       "<table border=\"1\" class=\"dataframe\">\n",
       "  <thead>\n",
       "    <tr style=\"text-align: right;\">\n",
       "      <th></th>\n",
       "      <th>crim</th>\n",
       "      <th>zn</th>\n",
       "      <th>indus</th>\n",
       "      <th>chas</th>\n",
       "      <th>nox</th>\n",
       "      <th>rm</th>\n",
       "      <th>age</th>\n",
       "      <th>dis</th>\n",
       "      <th>rad</th>\n",
       "      <th>tax</th>\n",
       "      <th>ptratio</th>\n",
       "      <th>black</th>\n",
       "      <th>lstat</th>\n",
       "      <th>medv</th>\n",
       "    </tr>\n",
       "  </thead>\n",
       "  <tbody>\n",
       "    <tr>\n",
       "      <th>0</th>\n",
       "      <td>0.00632</td>\n",
       "      <td>18.0</td>\n",
       "      <td>2.31</td>\n",
       "      <td>0</td>\n",
       "      <td>0.538</td>\n",
       "      <td>6.575</td>\n",
       "      <td>65.2</td>\n",
       "      <td>4.0900</td>\n",
       "      <td>1</td>\n",
       "      <td>296</td>\n",
       "      <td>15.3</td>\n",
       "      <td>396.90</td>\n",
       "      <td>4.98</td>\n",
       "      <td>24.0</td>\n",
       "    </tr>\n",
       "    <tr>\n",
       "      <th>1</th>\n",
       "      <td>0.02731</td>\n",
       "      <td>0.0</td>\n",
       "      <td>7.07</td>\n",
       "      <td>0</td>\n",
       "      <td>0.469</td>\n",
       "      <td>6.421</td>\n",
       "      <td>78.9</td>\n",
       "      <td>4.9671</td>\n",
       "      <td>2</td>\n",
       "      <td>242</td>\n",
       "      <td>17.8</td>\n",
       "      <td>396.90</td>\n",
       "      <td>9.14</td>\n",
       "      <td>21.6</td>\n",
       "    </tr>\n",
       "    <tr>\n",
       "      <th>2</th>\n",
       "      <td>0.02729</td>\n",
       "      <td>0.0</td>\n",
       "      <td>7.07</td>\n",
       "      <td>0</td>\n",
       "      <td>0.469</td>\n",
       "      <td>7.185</td>\n",
       "      <td>61.1</td>\n",
       "      <td>4.9671</td>\n",
       "      <td>2</td>\n",
       "      <td>242</td>\n",
       "      <td>17.8</td>\n",
       "      <td>392.83</td>\n",
       "      <td>4.03</td>\n",
       "      <td>34.7</td>\n",
       "    </tr>\n",
       "  </tbody>\n",
       "</table>\n",
       "</div>"
      ],
      "text/plain": [
       "      crim    zn  indus  chas    nox     rm   age     dis  rad  tax  ptratio  \\\n",
       "0  0.00632  18.0   2.31     0  0.538  6.575  65.2  4.0900    1  296     15.3   \n",
       "1  0.02731   0.0   7.07     0  0.469  6.421  78.9  4.9671    2  242     17.8   \n",
       "2  0.02729   0.0   7.07     0  0.469  7.185  61.1  4.9671    2  242     17.8   \n",
       "\n",
       "    black  lstat  medv  \n",
       "0  396.90   4.98  24.0  \n",
       "1  396.90   9.14  21.6  \n",
       "2  392.83   4.03  34.7  "
      ]
     },
     "execution_count": 2,
     "metadata": {},
     "output_type": "execute_result"
    }
   ],
   "source": [
    "data.head(3)"
   ]
  },
  {
   "cell_type": "code",
   "execution_count": 3,
   "metadata": {},
   "outputs": [
    {
     "data": {
      "text/html": [
       "<div>\n",
       "<style scoped>\n",
       "    .dataframe tbody tr th:only-of-type {\n",
       "        vertical-align: middle;\n",
       "    }\n",
       "\n",
       "    .dataframe tbody tr th {\n",
       "        vertical-align: top;\n",
       "    }\n",
       "\n",
       "    .dataframe thead th {\n",
       "        text-align: right;\n",
       "    }\n",
       "</style>\n",
       "<table border=\"1\" class=\"dataframe\">\n",
       "  <thead>\n",
       "    <tr style=\"text-align: right;\">\n",
       "      <th></th>\n",
       "      <th>crim</th>\n",
       "      <th>zn</th>\n",
       "      <th>indus</th>\n",
       "      <th>chas</th>\n",
       "      <th>nox</th>\n",
       "      <th>rm</th>\n",
       "      <th>age</th>\n",
       "      <th>dis</th>\n",
       "      <th>rad</th>\n",
       "      <th>tax</th>\n",
       "      <th>ptratio</th>\n",
       "      <th>black</th>\n",
       "      <th>lstat</th>\n",
       "      <th>medv</th>\n",
       "      <th>index</th>\n",
       "    </tr>\n",
       "  </thead>\n",
       "  <tbody>\n",
       "    <tr>\n",
       "      <th>0</th>\n",
       "      <td>0.00632</td>\n",
       "      <td>18.0</td>\n",
       "      <td>2.31</td>\n",
       "      <td>0</td>\n",
       "      <td>0.538</td>\n",
       "      <td>6.575</td>\n",
       "      <td>65.2</td>\n",
       "      <td>4.0900</td>\n",
       "      <td>1</td>\n",
       "      <td>296</td>\n",
       "      <td>15.3</td>\n",
       "      <td>396.90</td>\n",
       "      <td>4.98</td>\n",
       "      <td>24.0</td>\n",
       "      <td>1</td>\n",
       "    </tr>\n",
       "    <tr>\n",
       "      <th>1</th>\n",
       "      <td>0.02731</td>\n",
       "      <td>0.0</td>\n",
       "      <td>7.07</td>\n",
       "      <td>0</td>\n",
       "      <td>0.469</td>\n",
       "      <td>6.421</td>\n",
       "      <td>78.9</td>\n",
       "      <td>4.9671</td>\n",
       "      <td>2</td>\n",
       "      <td>242</td>\n",
       "      <td>17.8</td>\n",
       "      <td>396.90</td>\n",
       "      <td>9.14</td>\n",
       "      <td>21.6</td>\n",
       "      <td>2</td>\n",
       "    </tr>\n",
       "    <tr>\n",
       "      <th>2</th>\n",
       "      <td>0.02729</td>\n",
       "      <td>0.0</td>\n",
       "      <td>7.07</td>\n",
       "      <td>0</td>\n",
       "      <td>0.469</td>\n",
       "      <td>7.185</td>\n",
       "      <td>61.1</td>\n",
       "      <td>4.9671</td>\n",
       "      <td>2</td>\n",
       "      <td>242</td>\n",
       "      <td>17.8</td>\n",
       "      <td>392.83</td>\n",
       "      <td>4.03</td>\n",
       "      <td>34.7</td>\n",
       "      <td>3</td>\n",
       "    </tr>\n",
       "  </tbody>\n",
       "</table>\n",
       "</div>"
      ],
      "text/plain": [
       "      crim    zn  indus  chas    nox     rm   age     dis  rad  tax  ptratio  \\\n",
       "0  0.00632  18.0   2.31     0  0.538  6.575  65.2  4.0900    1  296     15.3   \n",
       "1  0.02731   0.0   7.07     0  0.469  6.421  78.9  4.9671    2  242     17.8   \n",
       "2  0.02729   0.0   7.07     0  0.469  7.185  61.1  4.9671    2  242     17.8   \n",
       "\n",
       "    black  lstat  medv  index  \n",
       "0  396.90   4.98  24.0      1  \n",
       "1  396.90   9.14  21.6      2  \n",
       "2  392.83   4.03  34.7      3  "
      ]
     },
     "execution_count": 3,
     "metadata": {},
     "output_type": "execute_result"
    }
   ],
   "source": [
    "#add index\n",
    "data['index']=range(1,len(data)+1)\n",
    "data.head(3)"
   ]
  },
  {
   "cell_type": "code",
   "execution_count": 4,
   "metadata": {
    "scrolled": true
   },
   "outputs": [
    {
     "name": "stdout",
     "output_type": "stream",
     "text": [
      "Boston housing dataset has 506 data points with 15 variables each.\n"
     ]
    }
   ],
   "source": [
    "prices = data['medv']\n",
    "features = data.drop('medv', axis = 1)\n",
    "    \n",
    "# Success\n",
    "print (\"Boston housing dataset has {} data points with {} variables each.\".format(*data.shape))"
   ]
  },
  {
   "cell_type": "code",
   "execution_count": 5,
   "metadata": {},
   "outputs": [
    {
     "data": {
      "text/html": [
       "<div>\n",
       "<style scoped>\n",
       "    .dataframe tbody tr th:only-of-type {\n",
       "        vertical-align: middle;\n",
       "    }\n",
       "\n",
       "    .dataframe tbody tr th {\n",
       "        vertical-align: top;\n",
       "    }\n",
       "\n",
       "    .dataframe thead th {\n",
       "        text-align: right;\n",
       "    }\n",
       "</style>\n",
       "<table border=\"1\" class=\"dataframe\">\n",
       "  <thead>\n",
       "    <tr style=\"text-align: right;\">\n",
       "      <th></th>\n",
       "      <th>crim</th>\n",
       "      <th>zn</th>\n",
       "      <th>indus</th>\n",
       "      <th>chas</th>\n",
       "      <th>nox</th>\n",
       "      <th>rm</th>\n",
       "      <th>age</th>\n",
       "      <th>dis</th>\n",
       "      <th>rad</th>\n",
       "      <th>tax</th>\n",
       "      <th>ptratio</th>\n",
       "      <th>black</th>\n",
       "      <th>lstat</th>\n",
       "      <th>medv</th>\n",
       "      <th>index</th>\n",
       "    </tr>\n",
       "  </thead>\n",
       "  <tbody>\n",
       "    <tr>\n",
       "      <th>count</th>\n",
       "      <td>506.000000</td>\n",
       "      <td>506.000000</td>\n",
       "      <td>506.000000</td>\n",
       "      <td>506.000000</td>\n",
       "      <td>506.000000</td>\n",
       "      <td>506.000000</td>\n",
       "      <td>506.000000</td>\n",
       "      <td>506.000000</td>\n",
       "      <td>506.000000</td>\n",
       "      <td>506.000000</td>\n",
       "      <td>506.000000</td>\n",
       "      <td>506.000000</td>\n",
       "      <td>506.000000</td>\n",
       "      <td>506.000000</td>\n",
       "      <td>506.000000</td>\n",
       "    </tr>\n",
       "    <tr>\n",
       "      <th>mean</th>\n",
       "      <td>3.613524</td>\n",
       "      <td>11.363636</td>\n",
       "      <td>11.136779</td>\n",
       "      <td>0.069170</td>\n",
       "      <td>0.554695</td>\n",
       "      <td>6.284634</td>\n",
       "      <td>68.574901</td>\n",
       "      <td>3.795043</td>\n",
       "      <td>9.549407</td>\n",
       "      <td>408.237154</td>\n",
       "      <td>18.455534</td>\n",
       "      <td>356.674032</td>\n",
       "      <td>12.653063</td>\n",
       "      <td>22.532806</td>\n",
       "      <td>253.500000</td>\n",
       "    </tr>\n",
       "    <tr>\n",
       "      <th>std</th>\n",
       "      <td>8.601545</td>\n",
       "      <td>23.322453</td>\n",
       "      <td>6.860353</td>\n",
       "      <td>0.253994</td>\n",
       "      <td>0.115878</td>\n",
       "      <td>0.702617</td>\n",
       "      <td>28.148861</td>\n",
       "      <td>2.105710</td>\n",
       "      <td>8.707259</td>\n",
       "      <td>168.537116</td>\n",
       "      <td>2.164946</td>\n",
       "      <td>91.294864</td>\n",
       "      <td>7.141062</td>\n",
       "      <td>9.197104</td>\n",
       "      <td>146.213884</td>\n",
       "    </tr>\n",
       "    <tr>\n",
       "      <th>min</th>\n",
       "      <td>0.006320</td>\n",
       "      <td>0.000000</td>\n",
       "      <td>0.460000</td>\n",
       "      <td>0.000000</td>\n",
       "      <td>0.385000</td>\n",
       "      <td>3.561000</td>\n",
       "      <td>2.900000</td>\n",
       "      <td>1.129600</td>\n",
       "      <td>1.000000</td>\n",
       "      <td>187.000000</td>\n",
       "      <td>12.600000</td>\n",
       "      <td>0.320000</td>\n",
       "      <td>1.730000</td>\n",
       "      <td>5.000000</td>\n",
       "      <td>1.000000</td>\n",
       "    </tr>\n",
       "    <tr>\n",
       "      <th>25%</th>\n",
       "      <td>0.082045</td>\n",
       "      <td>0.000000</td>\n",
       "      <td>5.190000</td>\n",
       "      <td>0.000000</td>\n",
       "      <td>0.449000</td>\n",
       "      <td>5.885500</td>\n",
       "      <td>45.025000</td>\n",
       "      <td>2.100175</td>\n",
       "      <td>4.000000</td>\n",
       "      <td>279.000000</td>\n",
       "      <td>17.400000</td>\n",
       "      <td>375.377500</td>\n",
       "      <td>6.950000</td>\n",
       "      <td>17.025000</td>\n",
       "      <td>127.250000</td>\n",
       "    </tr>\n",
       "    <tr>\n",
       "      <th>50%</th>\n",
       "      <td>0.256510</td>\n",
       "      <td>0.000000</td>\n",
       "      <td>9.690000</td>\n",
       "      <td>0.000000</td>\n",
       "      <td>0.538000</td>\n",
       "      <td>6.208500</td>\n",
       "      <td>77.500000</td>\n",
       "      <td>3.207450</td>\n",
       "      <td>5.000000</td>\n",
       "      <td>330.000000</td>\n",
       "      <td>19.050000</td>\n",
       "      <td>391.440000</td>\n",
       "      <td>11.360000</td>\n",
       "      <td>21.200000</td>\n",
       "      <td>253.500000</td>\n",
       "    </tr>\n",
       "    <tr>\n",
       "      <th>75%</th>\n",
       "      <td>3.677082</td>\n",
       "      <td>12.500000</td>\n",
       "      <td>18.100000</td>\n",
       "      <td>0.000000</td>\n",
       "      <td>0.624000</td>\n",
       "      <td>6.623500</td>\n",
       "      <td>94.075000</td>\n",
       "      <td>5.188425</td>\n",
       "      <td>24.000000</td>\n",
       "      <td>666.000000</td>\n",
       "      <td>20.200000</td>\n",
       "      <td>396.225000</td>\n",
       "      <td>16.955000</td>\n",
       "      <td>25.000000</td>\n",
       "      <td>379.750000</td>\n",
       "    </tr>\n",
       "    <tr>\n",
       "      <th>max</th>\n",
       "      <td>88.976200</td>\n",
       "      <td>100.000000</td>\n",
       "      <td>27.740000</td>\n",
       "      <td>1.000000</td>\n",
       "      <td>0.871000</td>\n",
       "      <td>8.780000</td>\n",
       "      <td>100.000000</td>\n",
       "      <td>12.126500</td>\n",
       "      <td>24.000000</td>\n",
       "      <td>711.000000</td>\n",
       "      <td>22.000000</td>\n",
       "      <td>396.900000</td>\n",
       "      <td>37.970000</td>\n",
       "      <td>50.000000</td>\n",
       "      <td>506.000000</td>\n",
       "    </tr>\n",
       "  </tbody>\n",
       "</table>\n",
       "</div>"
      ],
      "text/plain": [
       "             crim          zn       indus        chas         nox          rm  \\\n",
       "count  506.000000  506.000000  506.000000  506.000000  506.000000  506.000000   \n",
       "mean     3.613524   11.363636   11.136779    0.069170    0.554695    6.284634   \n",
       "std      8.601545   23.322453    6.860353    0.253994    0.115878    0.702617   \n",
       "min      0.006320    0.000000    0.460000    0.000000    0.385000    3.561000   \n",
       "25%      0.082045    0.000000    5.190000    0.000000    0.449000    5.885500   \n",
       "50%      0.256510    0.000000    9.690000    0.000000    0.538000    6.208500   \n",
       "75%      3.677082   12.500000   18.100000    0.000000    0.624000    6.623500   \n",
       "max     88.976200  100.000000   27.740000    1.000000    0.871000    8.780000   \n",
       "\n",
       "              age         dis         rad         tax     ptratio       black  \\\n",
       "count  506.000000  506.000000  506.000000  506.000000  506.000000  506.000000   \n",
       "mean    68.574901    3.795043    9.549407  408.237154   18.455534  356.674032   \n",
       "std     28.148861    2.105710    8.707259  168.537116    2.164946   91.294864   \n",
       "min      2.900000    1.129600    1.000000  187.000000   12.600000    0.320000   \n",
       "25%     45.025000    2.100175    4.000000  279.000000   17.400000  375.377500   \n",
       "50%     77.500000    3.207450    5.000000  330.000000   19.050000  391.440000   \n",
       "75%     94.075000    5.188425   24.000000  666.000000   20.200000  396.225000   \n",
       "max    100.000000   12.126500   24.000000  711.000000   22.000000  396.900000   \n",
       "\n",
       "            lstat        medv       index  \n",
       "count  506.000000  506.000000  506.000000  \n",
       "mean    12.653063   22.532806  253.500000  \n",
       "std      7.141062    9.197104  146.213884  \n",
       "min      1.730000    5.000000    1.000000  \n",
       "25%      6.950000   17.025000  127.250000  \n",
       "50%     11.360000   21.200000  253.500000  \n",
       "75%     16.955000   25.000000  379.750000  \n",
       "max     37.970000   50.000000  506.000000  "
      ]
     },
     "execution_count": 5,
     "metadata": {},
     "output_type": "execute_result"
    }
   ],
   "source": [
    "data.describe()"
   ]
  },
  {
   "cell_type": "markdown",
   "metadata": {},
   "source": [
    "## Data Exploration\n",
    "Since the main goal of this project is to construct a working model which has the capability of predicting the value of houses, I will need to separate the dataset into features and the target variable. The features, 'RM', 'LSTAT',  'PTRATIO' and others, give us quantitative information about each data point. The target variable, 'MEDV', will be the variable we seek to predict. These are stored in features and prices, respectively.\n",
    "## Calculate Descriptive Statistics\n",
    "Calculate the minimum, maximum, mean, median, and standard deviation of 'MEDV', which is stored in prices.\n",
    "Store each calculation in their respective variable.\n",
    "\n"
   ]
  },
  {
   "cell_type": "code",
   "execution_count": 6,
   "metadata": {},
   "outputs": [
    {
     "name": "stdout",
     "output_type": "stream",
     "text": [
      "Statistics for Boston housing dataset:\n",
      "\n",
      "Minimum price: $5.00\n",
      "Maximum price: $50.00\n",
      "Mean price: $22.53\n",
      "Median price $21.20\n",
      "Standard deviation of prices: $9.19\n"
     ]
    }
   ],
   "source": [
    "# Minimum price of the data\n",
    "minimum_price = np.min(prices)\n",
    "# Maximum price of the data\n",
    "maximum_price = np.max(prices)\n",
    "\n",
    "# mean price of the data\n",
    "mean_price = np.mean(prices)\n",
    "\n",
    "#Median price of the data\n",
    "median_price = np.median(prices)\n",
    "\n",
    "#Standard deviation of prices of the data\n",
    "std_price = np.std(prices)\n",
    "\n",
    "# Show the calculated statistics\n",
    "print (\"Statistics for Boston housing dataset:\\n\")\n",
    "print (\"Minimum price: ${:,.2f}\".format(minimum_price))\n",
    "print (\"Maximum price: ${:,.2f}\".format(maximum_price))\n",
    "print (\"Mean price: ${:,.2f}\".format(mean_price))\n",
    "print (\"Median price ${:,.2f}\".format(median_price))\n",
    "print (\"Standard deviation of prices: ${:,.2f}\".format(std_price))"
   ]
  },
  {
   "cell_type": "markdown",
   "metadata": {},
   "source": [
    "## 2. Feature selection\n",
    "\n",
    "Feature selection is a process where you automatically select those features in your data that contribute most to the prediction variable or output in which you are interested.\n",
    "\n",
    "Having irrelevant features in your data can decrease the accuracy of many models, especially linear algorithms like linear and logistic regression.\n",
    "\n",
    "Three benefits of performing feature selection before modeling your data are:\n",
    "\n",
    "Reduces Overfitting: Less redundant data means less opportunity to make decisions based on noise.\n",
    "Improves Accuracy: Less misleading data means modeling accuracy improves.\n",
    "Reduces Training Time: Less data means that algorithms train faster.\n",
    "\n",
    "\n",
    "Lets have a look at data distribution: MEDV vs other features:\n",
    "\n",
    "'RM' is the average number of rooms among homes in the neighborhood.\n",
    "'LSTAT' is the percentage of homeowners in the neighborhood considered \"lower class\" (working poor).\n",
    "\n",
    "A home with higher 'RM' value(number of rooms) should have higher price than a home with lower 'RM' value assuming that all of the other features are similar. The reason is it has more value, which is space and functionality.\n",
    "Based on experience, the home prices in neighborhood with higher 'LSTAT' value(percent of lower class workers) will be lower than in neighborhood with lower 'LSTAT' value. The reason is more likely due to supply and demand balance. The demand is related with the buying power (income, asset, etc) of the community.\n",
    "\n",
    "For Boston dataset, we can evaluate by plotting price vs each feature.\n"
   ]
  },
  {
   "cell_type": "code",
   "execution_count": 7,
   "metadata": {},
   "outputs": [
    {
     "data": {
      "text/html": [
       "<div>\n",
       "<style scoped>\n",
       "    .dataframe tbody tr th:only-of-type {\n",
       "        vertical-align: middle;\n",
       "    }\n",
       "\n",
       "    .dataframe tbody tr th {\n",
       "        vertical-align: top;\n",
       "    }\n",
       "\n",
       "    .dataframe thead th {\n",
       "        text-align: right;\n",
       "    }\n",
       "</style>\n",
       "<table border=\"1\" class=\"dataframe\">\n",
       "  <thead>\n",
       "    <tr style=\"text-align: right;\">\n",
       "      <th></th>\n",
       "      <th>rm</th>\n",
       "      <th>lstat</th>\n",
       "      <th>age</th>\n",
       "      <th>medv</th>\n",
       "    </tr>\n",
       "  </thead>\n",
       "  <tbody>\n",
       "    <tr>\n",
       "      <th>0</th>\n",
       "      <td>6.575</td>\n",
       "      <td>4.98</td>\n",
       "      <td>65.2</td>\n",
       "      <td>24.0</td>\n",
       "    </tr>\n",
       "    <tr>\n",
       "      <th>1</th>\n",
       "      <td>6.421</td>\n",
       "      <td>9.14</td>\n",
       "      <td>78.9</td>\n",
       "      <td>21.6</td>\n",
       "    </tr>\n",
       "    <tr>\n",
       "      <th>2</th>\n",
       "      <td>7.185</td>\n",
       "      <td>4.03</td>\n",
       "      <td>61.1</td>\n",
       "      <td>34.7</td>\n",
       "    </tr>\n",
       "  </tbody>\n",
       "</table>\n",
       "</div>"
      ],
      "text/plain": [
       "      rm  lstat   age  medv\n",
       "0  6.575   4.98  65.2  24.0\n",
       "1  6.421   9.14  78.9  21.6\n",
       "2  7.185   4.03  61.1  34.7"
      ]
     },
     "execution_count": 7,
     "metadata": {},
     "output_type": "execute_result"
    }
   ],
   "source": [
    "graph1 = data[['rm','lstat','age','medv']]\n",
    "graph1.head(3)"
   ]
  },
  {
   "cell_type": "code",
   "execution_count": 8,
   "metadata": {},
   "outputs": [
    {
     "data": {
      "image/png": "[encoded data removed]",
      "text/plain": [
       "<Figure size 432x288 with 1 Axes>"
      ]
     },
     "metadata": {
      "needs_background": "light"
     },
     "output_type": "display_data"
    }
   ],
   "source": [
    "import matplotlib.pyplot as plt\n",
    "graph1.plot.scatter(x='rm', y=['medv'])\n",
    "plt.show()"
   ]
  },
  {
   "cell_type": "code",
   "execution_count": 9,
   "metadata": {},
   "outputs": [
    {
     "data": {
      "image/png": "[encoded data removed]",
      "text/plain": [
       "<Figure size 432x288 with 1 Axes>"
      ]
     },
     "metadata": {
      "needs_background": "light"
     },
     "output_type": "display_data"
    }
   ],
   "source": [
    "graph1.plot.scatter(x='lstat', y=['medv'])\n",
    "plt.show()"
   ]
  },
  {
   "cell_type": "markdown",
   "metadata": {},
   "source": [
    "## Correlation - choosing best features\n",
    "I have 13 possible feature columns I can use to train my model. One thing to be aware of as I start to add more features is a concept called collinearity. Collinearity occurs where more than one feature contains data that are similar. The effect of collinearity is that my model will overfit - I may get great results on my test data set, but then the model performs worse on unseen data."
   ]
  },
  {
   "cell_type": "code",
   "execution_count": 10,
   "metadata": {},
   "outputs": [
    {
     "data": {
      "text/plain": [
       "array(['crim', 'zn', 'indus', 'chas', 'nox', 'rm', 'age', 'dis', 'rad',\n",
       "       'tax', 'ptratio', 'black', 'lstat', 'medv', 'index'], dtype=object)"
      ]
     },
     "execution_count": 10,
     "metadata": {},
     "output_type": "execute_result"
    }
   ],
   "source": [
    "data.columns.values"
   ]
  },
  {
   "cell_type": "code",
   "execution_count": 11,
   "metadata": {},
   "outputs": [
    {
     "data": {
      "image/png": "[encoded data removed]",
      "text/plain": [
       "<Figure size 792x648 with 2 Axes>"
      ]
     },
     "metadata": {},
     "output_type": "display_data"
    }
   ],
   "source": [
    "import seaborn as sns\n",
    "\n",
    "corr = data.corr()\n",
    "    \n",
    "sns.set(style=\"white\")\n",
    "mask = np.zeros_like(corr, dtype=np.bool)\n",
    "mask[np.triu_indices_from(mask)] = True\n",
    "\n",
    "f, ax = plt.subplots(figsize=(11, 9))\n",
    "cmap = sns.diverging_palette(220, 10, as_cmap=True)\n",
    "\n",
    "\n",
    "sns.heatmap(corr, mask=mask, cmap=cmap, vmax=1.0, center=0,\n",
    "            square=True, linewidths=.8, cbar_kws={\"shrink\": .8})\n",
    "plt.show()\n",
    "\n",
    "columns = ['crim', 'zn', 'indus', 'chas', 'nox', 'rm', 'age', 'dis', 'rad',\n",
    "       'tax', 'ptratio', 'black', 'lstat', 'medv']"
   ]
  },
  {
   "cell_type": "code",
   "execution_count": 12,
   "metadata": {},
   "outputs": [
    {
     "data": {
      "text/html": [
       "<div>\n",
       "<style scoped>\n",
       "    .dataframe tbody tr th:only-of-type {\n",
       "        vertical-align: middle;\n",
       "    }\n",
       "\n",
       "    .dataframe tbody tr th {\n",
       "        vertical-align: top;\n",
       "    }\n",
       "\n",
       "    .dataframe thead th {\n",
       "        text-align: right;\n",
       "    }\n",
       "</style>\n",
       "<table border=\"1\" class=\"dataframe\">\n",
       "  <thead>\n",
       "    <tr style=\"text-align: right;\">\n",
       "      <th></th>\n",
       "      <th>crim</th>\n",
       "      <th>zn</th>\n",
       "      <th>indus</th>\n",
       "      <th>chas</th>\n",
       "      <th>nox</th>\n",
       "      <th>rm</th>\n",
       "      <th>age</th>\n",
       "      <th>dis</th>\n",
       "      <th>rad</th>\n",
       "      <th>tax</th>\n",
       "      <th>ptratio</th>\n",
       "      <th>black</th>\n",
       "      <th>lstat</th>\n",
       "      <th>medv</th>\n",
       "      <th>index</th>\n",
       "    </tr>\n",
       "  </thead>\n",
       "  <tbody>\n",
       "    <tr>\n",
       "      <th>crim</th>\n",
       "      <td>1.000000</td>\n",
       "      <td>-0.200469</td>\n",
       "      <td>0.406583</td>\n",
       "      <td>-0.055892</td>\n",
       "      <td>0.420972</td>\n",
       "      <td>-0.219247</td>\n",
       "      <td>0.352734</td>\n",
       "      <td>-0.379670</td>\n",
       "      <td>0.625505</td>\n",
       "      <td>0.582764</td>\n",
       "      <td>0.289946</td>\n",
       "      <td>-0.385064</td>\n",
       "      <td>0.455621</td>\n",
       "      <td>-0.388305</td>\n",
       "      <td>0.407407</td>\n",
       "    </tr>\n",
       "    <tr>\n",
       "      <th>zn</th>\n",
       "      <td>-0.200469</td>\n",
       "      <td>1.000000</td>\n",
       "      <td>-0.533828</td>\n",
       "      <td>-0.042697</td>\n",
       "      <td>-0.516604</td>\n",
       "      <td>0.311991</td>\n",
       "      <td>-0.569537</td>\n",
       "      <td>0.664408</td>\n",
       "      <td>-0.311948</td>\n",
       "      <td>-0.314563</td>\n",
       "      <td>-0.391679</td>\n",
       "      <td>0.175520</td>\n",
       "      <td>-0.412995</td>\n",
       "      <td>0.360445</td>\n",
       "      <td>-0.103393</td>\n",
       "    </tr>\n",
       "    <tr>\n",
       "      <th>indus</th>\n",
       "      <td>0.406583</td>\n",
       "      <td>-0.533828</td>\n",
       "      <td>1.000000</td>\n",
       "      <td>0.062938</td>\n",
       "      <td>0.763651</td>\n",
       "      <td>-0.391676</td>\n",
       "      <td>0.644779</td>\n",
       "      <td>-0.708027</td>\n",
       "      <td>0.595129</td>\n",
       "      <td>0.720760</td>\n",
       "      <td>0.383248</td>\n",
       "      <td>-0.356977</td>\n",
       "      <td>0.603800</td>\n",
       "      <td>-0.483725</td>\n",
       "      <td>0.399439</td>\n",
       "    </tr>\n",
       "    <tr>\n",
       "      <th>chas</th>\n",
       "      <td>-0.055892</td>\n",
       "      <td>-0.042697</td>\n",
       "      <td>0.062938</td>\n",
       "      <td>1.000000</td>\n",
       "      <td>0.091203</td>\n",
       "      <td>0.091251</td>\n",
       "      <td>0.086518</td>\n",
       "      <td>-0.099176</td>\n",
       "      <td>-0.007368</td>\n",
       "      <td>-0.035587</td>\n",
       "      <td>-0.121515</td>\n",
       "      <td>0.048788</td>\n",
       "      <td>-0.053929</td>\n",
       "      <td>0.175260</td>\n",
       "      <td>-0.003759</td>\n",
       "    </tr>\n",
       "    <tr>\n",
       "      <th>nox</th>\n",
       "      <td>0.420972</td>\n",
       "      <td>-0.516604</td>\n",
       "      <td>0.763651</td>\n",
       "      <td>0.091203</td>\n",
       "      <td>1.000000</td>\n",
       "      <td>-0.302188</td>\n",
       "      <td>0.731470</td>\n",
       "      <td>-0.769230</td>\n",
       "      <td>0.611441</td>\n",
       "      <td>0.668023</td>\n",
       "      <td>0.188933</td>\n",
       "      <td>-0.380051</td>\n",
       "      <td>0.590879</td>\n",
       "      <td>-0.427321</td>\n",
       "      <td>0.398736</td>\n",
       "    </tr>\n",
       "    <tr>\n",
       "      <th>rm</th>\n",
       "      <td>-0.219247</td>\n",
       "      <td>0.311991</td>\n",
       "      <td>-0.391676</td>\n",
       "      <td>0.091251</td>\n",
       "      <td>-0.302188</td>\n",
       "      <td>1.000000</td>\n",
       "      <td>-0.240265</td>\n",
       "      <td>0.205246</td>\n",
       "      <td>-0.209847</td>\n",
       "      <td>-0.292048</td>\n",
       "      <td>-0.355501</td>\n",
       "      <td>0.128069</td>\n",
       "      <td>-0.613808</td>\n",
       "      <td>0.695360</td>\n",
       "      <td>-0.079971</td>\n",
       "    </tr>\n",
       "    <tr>\n",
       "      <th>age</th>\n",
       "      <td>0.352734</td>\n",
       "      <td>-0.569537</td>\n",
       "      <td>0.644779</td>\n",
       "      <td>0.086518</td>\n",
       "      <td>0.731470</td>\n",
       "      <td>-0.240265</td>\n",
       "      <td>1.000000</td>\n",
       "      <td>-0.747881</td>\n",
       "      <td>0.456022</td>\n",
       "      <td>0.506456</td>\n",
       "      <td>0.261515</td>\n",
       "      <td>-0.273534</td>\n",
       "      <td>0.602339</td>\n",
       "      <td>-0.376955</td>\n",
       "      <td>0.203784</td>\n",
       "    </tr>\n",
       "    <tr>\n",
       "      <th>dis</th>\n",
       "      <td>-0.379670</td>\n",
       "      <td>0.664408</td>\n",
       "      <td>-0.708027</td>\n",
       "      <td>-0.099176</td>\n",
       "      <td>-0.769230</td>\n",
       "      <td>0.205246</td>\n",
       "      <td>-0.747881</td>\n",
       "      <td>1.000000</td>\n",
       "      <td>-0.494588</td>\n",
       "      <td>-0.534432</td>\n",
       "      <td>-0.232471</td>\n",
       "      <td>0.291512</td>\n",
       "      <td>-0.496996</td>\n",
       "      <td>0.249929</td>\n",
       "      <td>-0.302211</td>\n",
       "    </tr>\n",
       "    <tr>\n",
       "      <th>rad</th>\n",
       "      <td>0.625505</td>\n",
       "      <td>-0.311948</td>\n",
       "      <td>0.595129</td>\n",
       "      <td>-0.007368</td>\n",
       "      <td>0.611441</td>\n",
       "      <td>-0.209847</td>\n",
       "      <td>0.456022</td>\n",
       "      <td>-0.494588</td>\n",
       "      <td>1.000000</td>\n",
       "      <td>0.910228</td>\n",
       "      <td>0.464741</td>\n",
       "      <td>-0.444413</td>\n",
       "      <td>0.488676</td>\n",
       "      <td>-0.381626</td>\n",
       "      <td>0.686002</td>\n",
       "    </tr>\n",
       "    <tr>\n",
       "      <th>tax</th>\n",
       "      <td>0.582764</td>\n",
       "      <td>-0.314563</td>\n",
       "      <td>0.720760</td>\n",
       "      <td>-0.035587</td>\n",
       "      <td>0.668023</td>\n",
       "      <td>-0.292048</td>\n",
       "      <td>0.506456</td>\n",
       "      <td>-0.534432</td>\n",
       "      <td>0.910228</td>\n",
       "      <td>1.000000</td>\n",
       "      <td>0.460853</td>\n",
       "      <td>-0.441808</td>\n",
       "      <td>0.543993</td>\n",
       "      <td>-0.468536</td>\n",
       "      <td>0.666626</td>\n",
       "    </tr>\n",
       "    <tr>\n",
       "      <th>ptratio</th>\n",
       "      <td>0.289946</td>\n",
       "      <td>-0.391679</td>\n",
       "      <td>0.383248</td>\n",
       "      <td>-0.121515</td>\n",
       "      <td>0.188933</td>\n",
       "      <td>-0.355501</td>\n",
       "      <td>0.261515</td>\n",
       "      <td>-0.232471</td>\n",
       "      <td>0.464741</td>\n",
       "      <td>0.460853</td>\n",
       "      <td>1.000000</td>\n",
       "      <td>-0.177383</td>\n",
       "      <td>0.374044</td>\n",
       "      <td>-0.507787</td>\n",
       "      <td>0.291074</td>\n",
       "    </tr>\n",
       "    <tr>\n",
       "      <th>black</th>\n",
       "      <td>-0.385064</td>\n",
       "      <td>0.175520</td>\n",
       "      <td>-0.356977</td>\n",
       "      <td>0.048788</td>\n",
       "      <td>-0.380051</td>\n",
       "      <td>0.128069</td>\n",
       "      <td>-0.273534</td>\n",
       "      <td>0.291512</td>\n",
       "      <td>-0.444413</td>\n",
       "      <td>-0.441808</td>\n",
       "      <td>-0.177383</td>\n",
       "      <td>1.000000</td>\n",
       "      <td>-0.366087</td>\n",
       "      <td>0.333461</td>\n",
       "      <td>-0.295041</td>\n",
       "    </tr>\n",
       "    <tr>\n",
       "      <th>lstat</th>\n",
       "      <td>0.455621</td>\n",
       "      <td>-0.412995</td>\n",
       "      <td>0.603800</td>\n",
       "      <td>-0.053929</td>\n",
       "      <td>0.590879</td>\n",
       "      <td>-0.613808</td>\n",
       "      <td>0.602339</td>\n",
       "      <td>-0.496996</td>\n",
       "      <td>0.488676</td>\n",
       "      <td>0.543993</td>\n",
       "      <td>0.374044</td>\n",
       "      <td>-0.366087</td>\n",
       "      <td>1.000000</td>\n",
       "      <td>-0.737663</td>\n",
       "      <td>0.258465</td>\n",
       "    </tr>\n",
       "    <tr>\n",
       "      <th>medv</th>\n",
       "      <td>-0.388305</td>\n",
       "      <td>0.360445</td>\n",
       "      <td>-0.483725</td>\n",
       "      <td>0.175260</td>\n",
       "      <td>-0.427321</td>\n",
       "      <td>0.695360</td>\n",
       "      <td>-0.376955</td>\n",
       "      <td>0.249929</td>\n",
       "      <td>-0.381626</td>\n",
       "      <td>-0.468536</td>\n",
       "      <td>-0.507787</td>\n",
       "      <td>0.333461</td>\n",
       "      <td>-0.737663</td>\n",
       "      <td>1.000000</td>\n",
       "      <td>-0.226604</td>\n",
       "    </tr>\n",
       "    <tr>\n",
       "      <th>index</th>\n",
       "      <td>0.407407</td>\n",
       "      <td>-0.103393</td>\n",
       "      <td>0.399439</td>\n",
       "      <td>-0.003759</td>\n",
       "      <td>0.398736</td>\n",
       "      <td>-0.079971</td>\n",
       "      <td>0.203784</td>\n",
       "      <td>-0.302211</td>\n",
       "      <td>0.686002</td>\n",
       "      <td>0.666626</td>\n",
       "      <td>0.291074</td>\n",
       "      <td>-0.295041</td>\n",
       "      <td>0.258465</td>\n",
       "      <td>-0.226604</td>\n",
       "      <td>1.000000</td>\n",
       "    </tr>\n",
       "  </tbody>\n",
       "</table>\n",
       "</div>"
      ],
      "text/plain": [
       "             crim        zn     indus      chas       nox        rm       age  \\\n",
       "crim     1.000000 -0.200469  0.406583 -0.055892  0.420972 -0.219247  0.352734   \n",
       "zn      -0.200469  1.000000 -0.533828 -0.042697 -0.516604  0.311991 -0.569537   \n",
       "indus    0.406583 -0.533828  1.000000  0.062938  0.763651 -0.391676  0.644779   \n",
       "chas    -0.055892 -0.042697  0.062938  1.000000  0.091203  0.091251  0.086518   \n",
       "nox      0.420972 -0.516604  0.763651  0.091203  1.000000 -0.302188  0.731470   \n",
       "rm      -0.219247  0.311991 -0.391676  0.091251 -0.302188  1.000000 -0.240265   \n",
       "age      0.352734 -0.569537  0.644779  0.086518  0.731470 -0.240265  1.000000   \n",
       "dis     -0.379670  0.664408 -0.708027 -0.099176 -0.769230  0.205246 -0.747881   \n",
       "rad      0.625505 -0.311948  0.595129 -0.007368  0.611441 -0.209847  0.456022   \n",
       "tax      0.582764 -0.314563  0.720760 -0.035587  0.668023 -0.292048  0.506456   \n",
       "ptratio  0.289946 -0.391679  0.383248 -0.121515  0.188933 -0.355501  0.261515   \n",
       "black   -0.385064  0.175520 -0.356977  0.048788 -0.380051  0.128069 -0.273534   \n",
       "lstat    0.455621 -0.412995  0.603800 -0.053929  0.590879 -0.613808  0.602339   \n",
       "medv    -0.388305  0.360445 -0.483725  0.175260 -0.427321  0.695360 -0.376955   \n",
       "index    0.407407 -0.103393  0.399439 -0.003759  0.398736 -0.079971  0.203784   \n",
       "\n",
       "              dis       rad       tax   ptratio     black     lstat      medv  \\\n",
       "crim    -0.379670  0.625505  0.582764  0.289946 -0.385064  0.455621 -0.388305   \n",
       "zn       0.664408 -0.311948 -0.314563 -0.391679  0.175520 -0.412995  0.360445   \n",
       "indus   -0.708027  0.595129  0.720760  0.383248 -0.356977  0.603800 -0.483725   \n",
       "chas    -0.099176 -0.007368 -0.035587 -0.121515  0.048788 -0.053929  0.175260   \n",
       "nox     -0.769230  0.611441  0.668023  0.188933 -0.380051  0.590879 -0.427321   \n",
       "rm       0.205246 -0.209847 -0.292048 -0.355501  0.128069 -0.613808  0.695360   \n",
       "age     -0.747881  0.456022  0.506456  0.261515 -0.273534  0.602339 -0.376955   \n",
       "dis      1.000000 -0.494588 -0.534432 -0.232471  0.291512 -0.496996  0.249929   \n",
       "rad     -0.494588  1.000000  0.910228  0.464741 -0.444413  0.488676 -0.381626   \n",
       "tax     -0.534432  0.910228  1.000000  0.460853 -0.441808  0.543993 -0.468536   \n",
       "ptratio -0.232471  0.464741  0.460853  1.000000 -0.177383  0.374044 -0.507787   \n",
       "black    0.291512 -0.444413 -0.441808 -0.177383  1.000000 -0.366087  0.333461   \n",
       "lstat   -0.496996  0.488676  0.543993  0.374044 -0.366087  1.000000 -0.737663   \n",
       "medv     0.249929 -0.381626 -0.468536 -0.507787  0.333461 -0.737663  1.000000   \n",
       "index   -0.302211  0.686002  0.666626  0.291074 -0.295041  0.258465 -0.226604   \n",
       "\n",
       "            index  \n",
       "crim     0.407407  \n",
       "zn      -0.103393  \n",
       "indus    0.399439  \n",
       "chas    -0.003759  \n",
       "nox      0.398736  \n",
       "rm      -0.079971  \n",
       "age      0.203784  \n",
       "dis     -0.302211  \n",
       "rad      0.686002  \n",
       "tax      0.666626  \n",
       "ptratio  0.291074  \n",
       "black   -0.295041  \n",
       "lstat    0.258465  \n",
       "medv    -0.226604  \n",
       "index    1.000000  "
      ]
     },
     "execution_count": 12,
     "metadata": {},
     "output_type": "execute_result"
    }
   ],
   "source": [
    "data.corr()"
   ]
  },
  {
   "cell_type": "markdown",
   "metadata": {},
   "source": [
    "highest cross-correlation values: <br>\n",
    "medv Median value of owner-occupied homes in 1000's dollars<br>\n",
    "<br>\n",
    "medv<>lstat -0.73  % lower status of the population<br>\n",
    "medv<>crim -0.388 per capita crime rate by town <br>\n",
    "medv<>rm 0.695  average number of rooms per dwelling<br>\n",
    "medv<>age -0.37 proportion of owner-occupied units built prior to 1940<br>\n",
    "medv<>indus -0.48  proportion of non-retail business acres per town<br>\n",
    "medv<>nox -0.42 nitric oxides concentration (parts per 10 million)<br>\n",
    "medv<>rad -0.38  index of accessibility to radial highways <br>\n",
    "medv<>tax -0.46 full-value property-tax rate per 10.000 dollars<br>\n",
    "medv<>ptratio -0.507  pupil-teacher ratio by town <br>"
   ]
  },
  {
   "cell_type": "markdown",
   "metadata": {},
   "source": [
    "## SelectKBest for feature selection on all dataset\n",
    "\n",
    "Confirming results of cross-correlation with SelectKBest (should be the same)\n",
    "\n",
    "SelectKBest selects the top k features that have maximum relevance with the target variable. It takes two parameters as input arguments, \"k\" (obviously) and the score function to rate the relevance of every feature with the target variable. "
   ]
  },
  {
   "cell_type": "code",
   "execution_count": 13,
   "metadata": {},
   "outputs": [
    {
     "name": "stdout",
     "output_type": "stream",
     "text": [
      "Ranking of features is \n",
      "1 . Score   lstat  is  601.6178711099022\n",
      "2 . Score   rm  is  471.84673987638644\n",
      "3 . Score   ptratio  is  175.1055428757603\n",
      "4 . Score   indus  is  153.95488313610974\n",
      "5 . Score   tax  is  141.76135657742412\n",
      "6 . Score   nox  is  112.59148027970087\n",
      "7 . Score   crim  is  89.48611475768125\n",
      "8 . Score   rad  is  85.91427766984089\n",
      "9 . Score   age  is  83.47745921923676\n",
      "10 . Score   zn  is  75.25764229895405\n",
      "11 . Score   black  is  63.054229112492976\n",
      "12 . Score   dis  is  33.57957032590496\n",
      "13 . Score   index  is  27.280852595717363\n",
      "14 . Score   chas  is  15.971512420371932\n",
      "['crim' 'zn' 'indus' 'chas' 'nox' 'rm' 'age' 'dis' 'rad' 'tax' 'ptratio'\n",
      " 'black' 'lstat' 'index']\n"
     ]
    }
   ],
   "source": [
    "from sklearn.feature_selection import SelectKBest\n",
    "from sklearn.feature_selection import f_regression  #for regression\n",
    "\n",
    "#F-value between label/feature for regression tasks.\n",
    "skb = SelectKBest(f_regression,k='all').fit(features,data['medv'])\n",
    "scores = skb.scores_\n",
    "all_features = features.columns.values\n",
    "sort_index = np.argsort(scores)[::-1]\n",
    "rank = 1\n",
    "ranked_features = []\n",
    "print (\"Ranking of features is \")\n",
    "for x in sort_index:\n",
    "    print (rank,\". Score  \",all_features[x],\" is \",scores[x])\n",
    "    ranked_features.append(all_features[x])\n",
    "    rank += 1\n",
    "print (all_features)"
   ]
  },
  {
   "cell_type": "code",
   "execution_count": 14,
   "metadata": {},
   "outputs": [
    {
     "name": "stdout",
     "output_type": "stream",
     "text": [
      "Features in 1st set are  ['lstat', 'rm', 'ptratio']\n"
     ]
    }
   ],
   "source": [
    "features_3 = ranked_features[:3]\n",
    "print (\"Features in 1st set are \",features_3)"
   ]
  },
  {
   "cell_type": "markdown",
   "metadata": {},
   "source": [
    "highest cross-correlation values on all dataset: \n",
    "medv Median value of owner-occupied homes in 1000's dollars\n",
    "\n",
    "1. medv*lstat -0.73  % lower status of the population\n",
    "2. medv*rm 0.695  average number of rooms per dwelling\n",
    "3. medv*ptratio -0.507  pupil-teacher ratio by town \n",
    "4. medv*indus -0.48  proportion of non-retail business acres per town\n",
    "5. medv*tax -0.46 full-value property-tax rate per 10.000 dollars\n",
    "6. medv*nox -0.42 nitric oxides concentration (parts per 10 million)\n",
    "7. medv*crim -0.388 per capita crime rate by town \n",
    "8. medv*rad -0.38  index of accessibility to radial highways \n",
    "9. medv*age -0.37 proportion of owner-occupied units built prior to 1940\n",
    "\n",
    "Top 9 Ranking from SelectKBest <br>\n",
    "1 . Score   lstat  is  601.6178711099022 <br>\n",
    "2 . Score   rm  is  471.84673987638644 <br>\n",
    "3 . Score   ptratio  is  175.1055428757603<br>\n",
    "4 . Score   indus  is  153.95488313610974<br>\n",
    "5 . Score   tax  is  141.76135657742412<br>\n",
    "6 . Score   nox  is  112.59148027970087<br>\n",
    "7 . Score   crim  is  89.48611475768125<br>\n",
    "8 . Score   rad  is  85.91427766984089<br>\n",
    "9 . Score   age  is  83.47745921923676<br>\n",
    "\n"
   ]
  },
  {
   "cell_type": "markdown",
   "metadata": {},
   "source": [
    "## Comparing feature selection results on train/test split datasets\n",
    "\n",
    "To avoid overfitting on validation dataset, features for model building should be selected based on cross correlation of train dataset."
   ]
  },
  {
   "cell_type": "code",
   "execution_count": 15,
   "metadata": {},
   "outputs": [
    {
     "data": {
      "text/html": [
       "<div>\n",
       "<style scoped>\n",
       "    .dataframe tbody tr th:only-of-type {\n",
       "        vertical-align: middle;\n",
       "    }\n",
       "\n",
       "    .dataframe tbody tr th {\n",
       "        vertical-align: top;\n",
       "    }\n",
       "\n",
       "    .dataframe thead th {\n",
       "        text-align: right;\n",
       "    }\n",
       "</style>\n",
       "<table border=\"1\" class=\"dataframe\">\n",
       "  <thead>\n",
       "    <tr style=\"text-align: right;\">\n",
       "      <th></th>\n",
       "      <th>crim</th>\n",
       "      <th>zn</th>\n",
       "      <th>indus</th>\n",
       "      <th>chas</th>\n",
       "      <th>nox</th>\n",
       "      <th>rm</th>\n",
       "      <th>age</th>\n",
       "      <th>dis</th>\n",
       "      <th>rad</th>\n",
       "      <th>tax</th>\n",
       "      <th>ptratio</th>\n",
       "      <th>black</th>\n",
       "      <th>lstat</th>\n",
       "      <th>medv</th>\n",
       "      <th>index</th>\n",
       "    </tr>\n",
       "  </thead>\n",
       "  <tbody>\n",
       "    <tr>\n",
       "      <th>46</th>\n",
       "      <td>0.18836</td>\n",
       "      <td>0.0</td>\n",
       "      <td>6.91</td>\n",
       "      <td>0</td>\n",
       "      <td>0.448</td>\n",
       "      <td>5.786</td>\n",
       "      <td>33.3</td>\n",
       "      <td>5.1004</td>\n",
       "      <td>3</td>\n",
       "      <td>233</td>\n",
       "      <td>17.9</td>\n",
       "      <td>396.90</td>\n",
       "      <td>14.15</td>\n",
       "      <td>20.0</td>\n",
       "      <td>47</td>\n",
       "    </tr>\n",
       "    <tr>\n",
       "      <th>488</th>\n",
       "      <td>0.15086</td>\n",
       "      <td>0.0</td>\n",
       "      <td>27.74</td>\n",
       "      <td>0</td>\n",
       "      <td>0.609</td>\n",
       "      <td>5.454</td>\n",
       "      <td>92.7</td>\n",
       "      <td>1.8209</td>\n",
       "      <td>4</td>\n",
       "      <td>711</td>\n",
       "      <td>20.1</td>\n",
       "      <td>395.09</td>\n",
       "      <td>18.06</td>\n",
       "      <td>15.2</td>\n",
       "      <td>489</td>\n",
       "    </tr>\n",
       "  </tbody>\n",
       "</table>\n",
       "</div>"
      ],
      "text/plain": [
       "        crim   zn  indus  chas    nox     rm   age     dis  rad  tax  ptratio  \\\n",
       "46   0.18836  0.0   6.91     0  0.448  5.786  33.3  5.1004    3  233     17.9   \n",
       "488  0.15086  0.0  27.74     0  0.609  5.454  92.7  1.8209    4  711     20.1   \n",
       "\n",
       "      black  lstat  medv  index  \n",
       "46   396.90  14.15  20.0     47  \n",
       "488  395.09  18.06  15.2    489  "
      ]
     },
     "execution_count": 15,
     "metadata": {},
     "output_type": "execute_result"
    }
   ],
   "source": [
    "from sklearn.model_selection import train_test_split \n",
    "\n",
    "# Split-out validation dataset 50% / 50%\n",
    "\n",
    "seed = 40\n",
    "X_train, X_validation, Y_train, Y_validation = train_test_split(data, prices, test_size=0.5, random_state = seed)\n",
    "\n",
    "\n",
    "X_train.head(2)\n",
    "\n",
    "\n"
   ]
  },
  {
   "cell_type": "code",
   "execution_count": 16,
   "metadata": {},
   "outputs": [
    {
     "data": {
      "text/html": [
       "<div>\n",
       "<style scoped>\n",
       "    .dataframe tbody tr th:only-of-type {\n",
       "        vertical-align: middle;\n",
       "    }\n",
       "\n",
       "    .dataframe tbody tr th {\n",
       "        vertical-align: top;\n",
       "    }\n",
       "\n",
       "    .dataframe thead th {\n",
       "        text-align: right;\n",
       "    }\n",
       "</style>\n",
       "<table border=\"1\" class=\"dataframe\">\n",
       "  <thead>\n",
       "    <tr style=\"text-align: right;\">\n",
       "      <th></th>\n",
       "      <th>crim</th>\n",
       "      <th>zn</th>\n",
       "      <th>indus</th>\n",
       "      <th>chas</th>\n",
       "      <th>nox</th>\n",
       "      <th>rm</th>\n",
       "      <th>age</th>\n",
       "      <th>dis</th>\n",
       "      <th>rad</th>\n",
       "      <th>tax</th>\n",
       "      <th>ptratio</th>\n",
       "      <th>black</th>\n",
       "      <th>lstat</th>\n",
       "      <th>medv</th>\n",
       "      <th>index</th>\n",
       "    </tr>\n",
       "  </thead>\n",
       "  <tbody>\n",
       "    <tr>\n",
       "      <th>358</th>\n",
       "      <td>5.20177</td>\n",
       "      <td>0.0</td>\n",
       "      <td>18.10</td>\n",
       "      <td>1</td>\n",
       "      <td>0.770</td>\n",
       "      <td>6.127</td>\n",
       "      <td>83.4</td>\n",
       "      <td>2.7227</td>\n",
       "      <td>24</td>\n",
       "      <td>666</td>\n",
       "      <td>20.2</td>\n",
       "      <td>395.43</td>\n",
       "      <td>11.48</td>\n",
       "      <td>22.7</td>\n",
       "      <td>359</td>\n",
       "    </tr>\n",
       "    <tr>\n",
       "      <th>197</th>\n",
       "      <td>0.04666</td>\n",
       "      <td>80.0</td>\n",
       "      <td>1.52</td>\n",
       "      <td>0</td>\n",
       "      <td>0.404</td>\n",
       "      <td>7.107</td>\n",
       "      <td>36.6</td>\n",
       "      <td>7.3090</td>\n",
       "      <td>2</td>\n",
       "      <td>329</td>\n",
       "      <td>12.6</td>\n",
       "      <td>354.31</td>\n",
       "      <td>8.61</td>\n",
       "      <td>30.3</td>\n",
       "      <td>198</td>\n",
       "    </tr>\n",
       "  </tbody>\n",
       "</table>\n",
       "</div>"
      ],
      "text/plain": [
       "        crim    zn  indus  chas    nox     rm   age     dis  rad  tax  \\\n",
       "358  5.20177   0.0  18.10     1  0.770  6.127  83.4  2.7227   24  666   \n",
       "197  0.04666  80.0   1.52     0  0.404  7.107  36.6  7.3090    2  329   \n",
       "\n",
       "     ptratio   black  lstat  medv  index  \n",
       "358     20.2  395.43  11.48  22.7    359  \n",
       "197     12.6  354.31   8.61  30.3    198  "
      ]
     },
     "execution_count": 16,
     "metadata": {},
     "output_type": "execute_result"
    }
   ],
   "source": [
    "X_validation.head(2)"
   ]
  },
  {
   "cell_type": "code",
   "execution_count": 17,
   "metadata": {},
   "outputs": [
    {
     "data": {
      "text/html": [
       "<div>\n",
       "<style scoped>\n",
       "    .dataframe tbody tr th:only-of-type {\n",
       "        vertical-align: middle;\n",
       "    }\n",
       "\n",
       "    .dataframe tbody tr th {\n",
       "        vertical-align: top;\n",
       "    }\n",
       "\n",
       "    .dataframe thead th {\n",
       "        text-align: right;\n",
       "    }\n",
       "</style>\n",
       "<table border=\"1\" class=\"dataframe\">\n",
       "  <thead>\n",
       "    <tr style=\"text-align: right;\">\n",
       "      <th></th>\n",
       "      <th>crim</th>\n",
       "      <th>zn</th>\n",
       "      <th>indus</th>\n",
       "      <th>chas</th>\n",
       "      <th>nox</th>\n",
       "      <th>rm</th>\n",
       "      <th>age</th>\n",
       "      <th>dis</th>\n",
       "      <th>rad</th>\n",
       "      <th>tax</th>\n",
       "      <th>ptratio</th>\n",
       "      <th>black</th>\n",
       "      <th>lstat</th>\n",
       "      <th>medv</th>\n",
       "      <th>index</th>\n",
       "    </tr>\n",
       "  </thead>\n",
       "  <tbody>\n",
       "    <tr>\n",
       "      <th>crim</th>\n",
       "      <td>1.000000</td>\n",
       "      <td>-0.228599</td>\n",
       "      <td>0.451376</td>\n",
       "      <td>-0.056339</td>\n",
       "      <td>0.523678</td>\n",
       "      <td>-0.289786</td>\n",
       "      <td>0.373230</td>\n",
       "      <td>-0.416614</td>\n",
       "      <td>0.750554</td>\n",
       "      <td>0.675379</td>\n",
       "      <td>0.317094</td>\n",
       "      <td>-0.479736</td>\n",
       "      <td>0.521471</td>\n",
       "      <td>-0.446383</td>\n",
       "      <td>0.471320</td>\n",
       "    </tr>\n",
       "    <tr>\n",
       "      <th>zn</th>\n",
       "      <td>-0.228599</td>\n",
       "      <td>1.000000</td>\n",
       "      <td>-0.529071</td>\n",
       "      <td>-0.009209</td>\n",
       "      <td>-0.498301</td>\n",
       "      <td>0.307768</td>\n",
       "      <td>-0.564650</td>\n",
       "      <td>0.702119</td>\n",
       "      <td>-0.287780</td>\n",
       "      <td>-0.294656</td>\n",
       "      <td>-0.377418</td>\n",
       "      <td>0.188083</td>\n",
       "      <td>-0.421250</td>\n",
       "      <td>0.371208</td>\n",
       "      <td>-0.066438</td>\n",
       "    </tr>\n",
       "    <tr>\n",
       "      <th>indus</th>\n",
       "      <td>0.451376</td>\n",
       "      <td>-0.529071</td>\n",
       "      <td>1.000000</td>\n",
       "      <td>0.018858</td>\n",
       "      <td>0.746651</td>\n",
       "      <td>-0.428567</td>\n",
       "      <td>0.627784</td>\n",
       "      <td>-0.688636</td>\n",
       "      <td>0.541554</td>\n",
       "      <td>0.693379</td>\n",
       "      <td>0.372513</td>\n",
       "      <td>-0.382977</td>\n",
       "      <td>0.609485</td>\n",
       "      <td>-0.560529</td>\n",
       "      <td>0.390409</td>\n",
       "    </tr>\n",
       "    <tr>\n",
       "      <th>chas</th>\n",
       "      <td>-0.056339</td>\n",
       "      <td>-0.009209</td>\n",
       "      <td>0.018858</td>\n",
       "      <td>1.000000</td>\n",
       "      <td>0.037048</td>\n",
       "      <td>0.140301</td>\n",
       "      <td>0.048000</td>\n",
       "      <td>-0.070841</td>\n",
       "      <td>0.010122</td>\n",
       "      <td>-0.051405</td>\n",
       "      <td>-0.119943</td>\n",
       "      <td>0.043253</td>\n",
       "      <td>-0.079892</td>\n",
       "      <td>0.229924</td>\n",
       "      <td>0.005258</td>\n",
       "    </tr>\n",
       "    <tr>\n",
       "      <th>nox</th>\n",
       "      <td>0.523678</td>\n",
       "      <td>-0.498301</td>\n",
       "      <td>0.746651</td>\n",
       "      <td>0.037048</td>\n",
       "      <td>1.000000</td>\n",
       "      <td>-0.259978</td>\n",
       "      <td>0.717308</td>\n",
       "      <td>-0.756721</td>\n",
       "      <td>0.635899</td>\n",
       "      <td>0.677699</td>\n",
       "      <td>0.208823</td>\n",
       "      <td>-0.470429</td>\n",
       "      <td>0.567892</td>\n",
       "      <td>-0.469790</td>\n",
       "      <td>0.424948</td>\n",
       "    </tr>\n",
       "    <tr>\n",
       "      <th>rm</th>\n",
       "      <td>-0.289786</td>\n",
       "      <td>0.307768</td>\n",
       "      <td>-0.428567</td>\n",
       "      <td>0.140301</td>\n",
       "      <td>-0.259978</td>\n",
       "      <td>1.000000</td>\n",
       "      <td>-0.245882</td>\n",
       "      <td>0.173596</td>\n",
       "      <td>-0.175223</td>\n",
       "      <td>-0.282127</td>\n",
       "      <td>-0.329359</td>\n",
       "      <td>0.176075</td>\n",
       "      <td>-0.627089</td>\n",
       "      <td>0.686916</td>\n",
       "      <td>-0.073274</td>\n",
       "    </tr>\n",
       "    <tr>\n",
       "      <th>age</th>\n",
       "      <td>0.373230</td>\n",
       "      <td>-0.564650</td>\n",
       "      <td>0.627784</td>\n",
       "      <td>0.048000</td>\n",
       "      <td>0.717308</td>\n",
       "      <td>-0.245882</td>\n",
       "      <td>1.000000</td>\n",
       "      <td>-0.723708</td>\n",
       "      <td>0.425128</td>\n",
       "      <td>0.465728</td>\n",
       "      <td>0.269800</td>\n",
       "      <td>-0.277530</td>\n",
       "      <td>0.595005</td>\n",
       "      <td>-0.431646</td>\n",
       "      <td>0.190501</td>\n",
       "    </tr>\n",
       "    <tr>\n",
       "      <th>dis</th>\n",
       "      <td>-0.416614</td>\n",
       "      <td>0.702119</td>\n",
       "      <td>-0.688636</td>\n",
       "      <td>-0.070841</td>\n",
       "      <td>-0.756721</td>\n",
       "      <td>0.173596</td>\n",
       "      <td>-0.723708</td>\n",
       "      <td>1.000000</td>\n",
       "      <td>-0.460596</td>\n",
       "      <td>-0.492030</td>\n",
       "      <td>-0.225419</td>\n",
       "      <td>0.305813</td>\n",
       "      <td>-0.474242</td>\n",
       "      <td>0.279931</td>\n",
       "      <td>-0.261754</td>\n",
       "    </tr>\n",
       "    <tr>\n",
       "      <th>rad</th>\n",
       "      <td>0.750554</td>\n",
       "      <td>-0.287780</td>\n",
       "      <td>0.541554</td>\n",
       "      <td>0.010122</td>\n",
       "      <td>0.635899</td>\n",
       "      <td>-0.175223</td>\n",
       "      <td>0.425128</td>\n",
       "      <td>-0.460596</td>\n",
       "      <td>1.000000</td>\n",
       "      <td>0.879336</td>\n",
       "      <td>0.419824</td>\n",
       "      <td>-0.494857</td>\n",
       "      <td>0.462906</td>\n",
       "      <td>-0.395412</td>\n",
       "      <td>0.639049</td>\n",
       "    </tr>\n",
       "    <tr>\n",
       "      <th>tax</th>\n",
       "      <td>0.675379</td>\n",
       "      <td>-0.294656</td>\n",
       "      <td>0.693379</td>\n",
       "      <td>-0.051405</td>\n",
       "      <td>0.677699</td>\n",
       "      <td>-0.282127</td>\n",
       "      <td>0.465728</td>\n",
       "      <td>-0.492030</td>\n",
       "      <td>0.879336</td>\n",
       "      <td>1.000000</td>\n",
       "      <td>0.439239</td>\n",
       "      <td>-0.478578</td>\n",
       "      <td>0.518645</td>\n",
       "      <td>-0.507521</td>\n",
       "      <td>0.660388</td>\n",
       "    </tr>\n",
       "    <tr>\n",
       "      <th>ptratio</th>\n",
       "      <td>0.317094</td>\n",
       "      <td>-0.377418</td>\n",
       "      <td>0.372513</td>\n",
       "      <td>-0.119943</td>\n",
       "      <td>0.208823</td>\n",
       "      <td>-0.329359</td>\n",
       "      <td>0.269800</td>\n",
       "      <td>-0.225419</td>\n",
       "      <td>0.419824</td>\n",
       "      <td>0.439239</td>\n",
       "      <td>1.000000</td>\n",
       "      <td>-0.164617</td>\n",
       "      <td>0.351241</td>\n",
       "      <td>-0.505280</td>\n",
       "      <td>0.274690</td>\n",
       "    </tr>\n",
       "    <tr>\n",
       "      <th>black</th>\n",
       "      <td>-0.479736</td>\n",
       "      <td>0.188083</td>\n",
       "      <td>-0.382977</td>\n",
       "      <td>0.043253</td>\n",
       "      <td>-0.470429</td>\n",
       "      <td>0.176075</td>\n",
       "      <td>-0.277530</td>\n",
       "      <td>0.305813</td>\n",
       "      <td>-0.494857</td>\n",
       "      <td>-0.478578</td>\n",
       "      <td>-0.164617</td>\n",
       "      <td>1.000000</td>\n",
       "      <td>-0.439972</td>\n",
       "      <td>0.394401</td>\n",
       "      <td>-0.303325</td>\n",
       "    </tr>\n",
       "    <tr>\n",
       "      <th>lstat</th>\n",
       "      <td>0.521471</td>\n",
       "      <td>-0.421250</td>\n",
       "      <td>0.609485</td>\n",
       "      <td>-0.079892</td>\n",
       "      <td>0.567892</td>\n",
       "      <td>-0.627089</td>\n",
       "      <td>0.595005</td>\n",
       "      <td>-0.474242</td>\n",
       "      <td>0.462906</td>\n",
       "      <td>0.518645</td>\n",
       "      <td>0.351241</td>\n",
       "      <td>-0.439972</td>\n",
       "      <td>1.000000</td>\n",
       "      <td>-0.730870</td>\n",
       "      <td>0.224690</td>\n",
       "    </tr>\n",
       "    <tr>\n",
       "      <th>medv</th>\n",
       "      <td>-0.446383</td>\n",
       "      <td>0.371208</td>\n",
       "      <td>-0.560529</td>\n",
       "      <td>0.229924</td>\n",
       "      <td>-0.469790</td>\n",
       "      <td>0.686916</td>\n",
       "      <td>-0.431646</td>\n",
       "      <td>0.279931</td>\n",
       "      <td>-0.395412</td>\n",
       "      <td>-0.507521</td>\n",
       "      <td>-0.505280</td>\n",
       "      <td>0.394401</td>\n",
       "      <td>-0.730870</td>\n",
       "      <td>1.000000</td>\n",
       "      <td>-0.256755</td>\n",
       "    </tr>\n",
       "    <tr>\n",
       "      <th>index</th>\n",
       "      <td>0.471320</td>\n",
       "      <td>-0.066438</td>\n",
       "      <td>0.390409</td>\n",
       "      <td>0.005258</td>\n",
       "      <td>0.424948</td>\n",
       "      <td>-0.073274</td>\n",
       "      <td>0.190501</td>\n",
       "      <td>-0.261754</td>\n",
       "      <td>0.639049</td>\n",
       "      <td>0.660388</td>\n",
       "      <td>0.274690</td>\n",
       "      <td>-0.303325</td>\n",
       "      <td>0.224690</td>\n",
       "      <td>-0.256755</td>\n",
       "      <td>1.000000</td>\n",
       "    </tr>\n",
       "  </tbody>\n",
       "</table>\n",
       "</div>"
      ],
      "text/plain": [
       "             crim        zn     indus      chas       nox        rm       age  \\\n",
       "crim     1.000000 -0.228599  0.451376 -0.056339  0.523678 -0.289786  0.373230   \n",
       "zn      -0.228599  1.000000 -0.529071 -0.009209 -0.498301  0.307768 -0.564650   \n",
       "indus    0.451376 -0.529071  1.000000  0.018858  0.746651 -0.428567  0.627784   \n",
       "chas    -0.056339 -0.009209  0.018858  1.000000  0.037048  0.140301  0.048000   \n",
       "nox      0.523678 -0.498301  0.746651  0.037048  1.000000 -0.259978  0.717308   \n",
       "rm      -0.289786  0.307768 -0.428567  0.140301 -0.259978  1.000000 -0.245882   \n",
       "age      0.373230 -0.564650  0.627784  0.048000  0.717308 -0.245882  1.000000   \n",
       "dis     -0.416614  0.702119 -0.688636 -0.070841 -0.756721  0.173596 -0.723708   \n",
       "rad      0.750554 -0.287780  0.541554  0.010122  0.635899 -0.175223  0.425128   \n",
       "tax      0.675379 -0.294656  0.693379 -0.051405  0.677699 -0.282127  0.465728   \n",
       "ptratio  0.317094 -0.377418  0.372513 -0.119943  0.208823 -0.329359  0.269800   \n",
       "black   -0.479736  0.188083 -0.382977  0.043253 -0.470429  0.176075 -0.277530   \n",
       "lstat    0.521471 -0.421250  0.609485 -0.079892  0.567892 -0.627089  0.595005   \n",
       "medv    -0.446383  0.371208 -0.560529  0.229924 -0.469790  0.686916 -0.431646   \n",
       "index    0.471320 -0.066438  0.390409  0.005258  0.424948 -0.073274  0.190501   \n",
       "\n",
       "              dis       rad       tax   ptratio     black     lstat      medv  \\\n",
       "crim    -0.416614  0.750554  0.675379  0.317094 -0.479736  0.521471 -0.446383   \n",
       "zn       0.702119 -0.287780 -0.294656 -0.377418  0.188083 -0.421250  0.371208   \n",
       "indus   -0.688636  0.541554  0.693379  0.372513 -0.382977  0.609485 -0.560529   \n",
       "chas    -0.070841  0.010122 -0.051405 -0.119943  0.043253 -0.079892  0.229924   \n",
       "nox     -0.756721  0.635899  0.677699  0.208823 -0.470429  0.567892 -0.469790   \n",
       "rm       0.173596 -0.175223 -0.282127 -0.329359  0.176075 -0.627089  0.686916   \n",
       "age     -0.723708  0.425128  0.465728  0.269800 -0.277530  0.595005 -0.431646   \n",
       "dis      1.000000 -0.460596 -0.492030 -0.225419  0.305813 -0.474242  0.279931   \n",
       "rad     -0.460596  1.000000  0.879336  0.419824 -0.494857  0.462906 -0.395412   \n",
       "tax     -0.492030  0.879336  1.000000  0.439239 -0.478578  0.518645 -0.507521   \n",
       "ptratio -0.225419  0.419824  0.439239  1.000000 -0.164617  0.351241 -0.505280   \n",
       "black    0.305813 -0.494857 -0.478578 -0.164617  1.000000 -0.439972  0.394401   \n",
       "lstat   -0.474242  0.462906  0.518645  0.351241 -0.439972  1.000000 -0.730870   \n",
       "medv     0.279931 -0.395412 -0.507521 -0.505280  0.394401 -0.730870  1.000000   \n",
       "index   -0.261754  0.639049  0.660388  0.274690 -0.303325  0.224690 -0.256755   \n",
       "\n",
       "            index  \n",
       "crim     0.471320  \n",
       "zn      -0.066438  \n",
       "indus    0.390409  \n",
       "chas     0.005258  \n",
       "nox      0.424948  \n",
       "rm      -0.073274  \n",
       "age      0.190501  \n",
       "dis     -0.261754  \n",
       "rad      0.639049  \n",
       "tax      0.660388  \n",
       "ptratio  0.274690  \n",
       "black   -0.303325  \n",
       "lstat    0.224690  \n",
       "medv    -0.256755  \n",
       "index    1.000000  "
      ]
     },
     "execution_count": 17,
     "metadata": {},
     "output_type": "execute_result"
    }
   ],
   "source": [
    "X_train.corr()"
   ]
  },
  {
   "cell_type": "code",
   "execution_count": 18,
   "metadata": {
    "scrolled": true
   },
   "outputs": [
    {
     "data": {
      "text/html": [
       "<div>\n",
       "<style scoped>\n",
       "    .dataframe tbody tr th:only-of-type {\n",
       "        vertical-align: middle;\n",
       "    }\n",
       "\n",
       "    .dataframe tbody tr th {\n",
       "        vertical-align: top;\n",
       "    }\n",
       "\n",
       "    .dataframe thead th {\n",
       "        text-align: right;\n",
       "    }\n",
       "</style>\n",
       "<table border=\"1\" class=\"dataframe\">\n",
       "  <thead>\n",
       "    <tr style=\"text-align: right;\">\n",
       "      <th></th>\n",
       "      <th>crim</th>\n",
       "      <th>zn</th>\n",
       "      <th>indus</th>\n",
       "      <th>chas</th>\n",
       "      <th>nox</th>\n",
       "      <th>rm</th>\n",
       "      <th>age</th>\n",
       "      <th>dis</th>\n",
       "      <th>rad</th>\n",
       "      <th>tax</th>\n",
       "      <th>ptratio</th>\n",
       "      <th>black</th>\n",
       "      <th>lstat</th>\n",
       "      <th>medv</th>\n",
       "      <th>index</th>\n",
       "    </tr>\n",
       "  </thead>\n",
       "  <tbody>\n",
       "    <tr>\n",
       "      <th>crim</th>\n",
       "      <td>1.000000</td>\n",
       "      <td>-0.197322</td>\n",
       "      <td>0.409378</td>\n",
       "      <td>-0.059750</td>\n",
       "      <td>0.379677</td>\n",
       "      <td>-0.193401</td>\n",
       "      <td>0.359631</td>\n",
       "      <td>-0.380406</td>\n",
       "      <td>0.584009</td>\n",
       "      <td>0.562138</td>\n",
       "      <td>0.298079</td>\n",
       "      <td>-0.368809</td>\n",
       "      <td>0.438809</td>\n",
       "      <td>-0.382502</td>\n",
       "      <td>0.400750</td>\n",
       "    </tr>\n",
       "    <tr>\n",
       "      <th>zn</th>\n",
       "      <td>-0.197322</td>\n",
       "      <td>1.000000</td>\n",
       "      <td>-0.540976</td>\n",
       "      <td>-0.072713</td>\n",
       "      <td>-0.536206</td>\n",
       "      <td>0.315605</td>\n",
       "      <td>-0.573066</td>\n",
       "      <td>0.633788</td>\n",
       "      <td>-0.336155</td>\n",
       "      <td>-0.333835</td>\n",
       "      <td>-0.401882</td>\n",
       "      <td>0.162630</td>\n",
       "      <td>-0.406749</td>\n",
       "      <td>0.351912</td>\n",
       "      <td>-0.135685</td>\n",
       "    </tr>\n",
       "    <tr>\n",
       "      <th>indus</th>\n",
       "      <td>0.409378</td>\n",
       "      <td>-0.540976</td>\n",
       "      <td>1.000000</td>\n",
       "      <td>0.107725</td>\n",
       "      <td>0.784689</td>\n",
       "      <td>-0.366885</td>\n",
       "      <td>0.663979</td>\n",
       "      <td>-0.729287</td>\n",
       "      <td>0.651060</td>\n",
       "      <td>0.749633</td>\n",
       "      <td>0.397710</td>\n",
       "      <td>-0.327822</td>\n",
       "      <td>0.604924</td>\n",
       "      <td>-0.427513</td>\n",
       "      <td>0.409251</td>\n",
       "    </tr>\n",
       "    <tr>\n",
       "      <th>chas</th>\n",
       "      <td>-0.059750</td>\n",
       "      <td>-0.072713</td>\n",
       "      <td>0.107725</td>\n",
       "      <td>1.000000</td>\n",
       "      <td>0.139931</td>\n",
       "      <td>0.053483</td>\n",
       "      <td>0.121054</td>\n",
       "      <td>-0.127129</td>\n",
       "      <td>-0.024373</td>\n",
       "      <td>-0.020667</td>\n",
       "      <td>-0.122748</td>\n",
       "      <td>0.054415</td>\n",
       "      <td>-0.032599</td>\n",
       "      <td>0.132884</td>\n",
       "      <td>-0.012038</td>\n",
       "    </tr>\n",
       "    <tr>\n",
       "      <th>nox</th>\n",
       "      <td>0.379677</td>\n",
       "      <td>-0.536206</td>\n",
       "      <td>0.784689</td>\n",
       "      <td>0.139931</td>\n",
       "      <td>1.000000</td>\n",
       "      <td>-0.337359</td>\n",
       "      <td>0.748030</td>\n",
       "      <td>-0.782724</td>\n",
       "      <td>0.587979</td>\n",
       "      <td>0.659928</td>\n",
       "      <td>0.182121</td>\n",
       "      <td>-0.296167</td>\n",
       "      <td>0.613136</td>\n",
       "      <td>-0.407626</td>\n",
       "      <td>0.379563</td>\n",
       "    </tr>\n",
       "    <tr>\n",
       "      <th>rm</th>\n",
       "      <td>-0.193401</td>\n",
       "      <td>0.315605</td>\n",
       "      <td>-0.366885</td>\n",
       "      <td>0.053483</td>\n",
       "      <td>-0.337359</td>\n",
       "      <td>1.000000</td>\n",
       "      <td>-0.236483</td>\n",
       "      <td>0.234713</td>\n",
       "      <td>-0.239489</td>\n",
       "      <td>-0.303092</td>\n",
       "      <td>-0.374491</td>\n",
       "      <td>0.087027</td>\n",
       "      <td>-0.604993</td>\n",
       "      <td>0.702971</td>\n",
       "      <td>-0.085415</td>\n",
       "    </tr>\n",
       "    <tr>\n",
       "      <th>age</th>\n",
       "      <td>0.359631</td>\n",
       "      <td>-0.573066</td>\n",
       "      <td>0.663979</td>\n",
       "      <td>0.121054</td>\n",
       "      <td>0.748030</td>\n",
       "      <td>-0.236483</td>\n",
       "      <td>1.000000</td>\n",
       "      <td>-0.774793</td>\n",
       "      <td>0.486353</td>\n",
       "      <td>0.544688</td>\n",
       "      <td>0.253161</td>\n",
       "      <td>-0.271052</td>\n",
       "      <td>0.608407</td>\n",
       "      <td>-0.336254</td>\n",
       "      <td>0.215104</td>\n",
       "    </tr>\n",
       "    <tr>\n",
       "      <th>dis</th>\n",
       "      <td>-0.380406</td>\n",
       "      <td>0.633788</td>\n",
       "      <td>-0.729287</td>\n",
       "      <td>-0.127129</td>\n",
       "      <td>-0.782724</td>\n",
       "      <td>0.234713</td>\n",
       "      <td>-0.774793</td>\n",
       "      <td>1.000000</td>\n",
       "      <td>-0.527503</td>\n",
       "      <td>-0.576978</td>\n",
       "      <td>-0.245451</td>\n",
       "      <td>0.279551</td>\n",
       "      <td>-0.521830</td>\n",
       "      <td>0.233082</td>\n",
       "      <td>-0.345858</td>\n",
       "    </tr>\n",
       "    <tr>\n",
       "      <th>rad</th>\n",
       "      <td>0.584009</td>\n",
       "      <td>-0.336155</td>\n",
       "      <td>0.651060</td>\n",
       "      <td>-0.024373</td>\n",
       "      <td>0.587979</td>\n",
       "      <td>-0.239489</td>\n",
       "      <td>0.486353</td>\n",
       "      <td>-0.527503</td>\n",
       "      <td>1.000000</td>\n",
       "      <td>0.940211</td>\n",
       "      <td>0.513998</td>\n",
       "      <td>-0.400439</td>\n",
       "      <td>0.513454</td>\n",
       "      <td>-0.382788</td>\n",
       "      <td>0.736657</td>\n",
       "    </tr>\n",
       "    <tr>\n",
       "      <th>tax</th>\n",
       "      <td>0.562138</td>\n",
       "      <td>-0.333835</td>\n",
       "      <td>0.749633</td>\n",
       "      <td>-0.020667</td>\n",
       "      <td>0.659928</td>\n",
       "      <td>-0.303092</td>\n",
       "      <td>0.544688</td>\n",
       "      <td>-0.576978</td>\n",
       "      <td>0.940211</td>\n",
       "      <td>1.000000</td>\n",
       "      <td>0.486271</td>\n",
       "      <td>-0.406254</td>\n",
       "      <td>0.568570</td>\n",
       "      <td>-0.446070</td>\n",
       "      <td>0.674783</td>\n",
       "    </tr>\n",
       "    <tr>\n",
       "      <th>ptratio</th>\n",
       "      <td>0.298079</td>\n",
       "      <td>-0.401882</td>\n",
       "      <td>0.397710</td>\n",
       "      <td>-0.122748</td>\n",
       "      <td>0.182121</td>\n",
       "      <td>-0.374491</td>\n",
       "      <td>0.253161</td>\n",
       "      <td>-0.245451</td>\n",
       "      <td>0.513998</td>\n",
       "      <td>0.486271</td>\n",
       "      <td>1.000000</td>\n",
       "      <td>-0.185761</td>\n",
       "      <td>0.391209</td>\n",
       "      <td>-0.504334</td>\n",
       "      <td>0.303559</td>\n",
       "    </tr>\n",
       "    <tr>\n",
       "      <th>black</th>\n",
       "      <td>-0.368809</td>\n",
       "      <td>0.162630</td>\n",
       "      <td>-0.327822</td>\n",
       "      <td>0.054415</td>\n",
       "      <td>-0.296167</td>\n",
       "      <td>0.087027</td>\n",
       "      <td>-0.271052</td>\n",
       "      <td>0.279551</td>\n",
       "      <td>-0.400439</td>\n",
       "      <td>-0.406254</td>\n",
       "      <td>-0.185761</td>\n",
       "      <td>1.000000</td>\n",
       "      <td>-0.302629</td>\n",
       "      <td>0.280245</td>\n",
       "      <td>-0.284161</td>\n",
       "    </tr>\n",
       "    <tr>\n",
       "      <th>lstat</th>\n",
       "      <td>0.438809</td>\n",
       "      <td>-0.406749</td>\n",
       "      <td>0.604924</td>\n",
       "      <td>-0.032599</td>\n",
       "      <td>0.613136</td>\n",
       "      <td>-0.604993</td>\n",
       "      <td>0.608407</td>\n",
       "      <td>-0.521830</td>\n",
       "      <td>0.513454</td>\n",
       "      <td>0.568570</td>\n",
       "      <td>0.391209</td>\n",
       "      <td>-0.302629</td>\n",
       "      <td>1.000000</td>\n",
       "      <td>-0.744872</td>\n",
       "      <td>0.288188</td>\n",
       "    </tr>\n",
       "    <tr>\n",
       "      <th>medv</th>\n",
       "      <td>-0.382502</td>\n",
       "      <td>0.351912</td>\n",
       "      <td>-0.427513</td>\n",
       "      <td>0.132884</td>\n",
       "      <td>-0.407626</td>\n",
       "      <td>0.702971</td>\n",
       "      <td>-0.336254</td>\n",
       "      <td>0.233082</td>\n",
       "      <td>-0.382788</td>\n",
       "      <td>-0.446070</td>\n",
       "      <td>-0.504334</td>\n",
       "      <td>0.280245</td>\n",
       "      <td>-0.744872</td>\n",
       "      <td>1.000000</td>\n",
       "      <td>-0.200527</td>\n",
       "    </tr>\n",
       "    <tr>\n",
       "      <th>index</th>\n",
       "      <td>0.400750</td>\n",
       "      <td>-0.135685</td>\n",
       "      <td>0.409251</td>\n",
       "      <td>-0.012038</td>\n",
       "      <td>0.379563</td>\n",
       "      <td>-0.085415</td>\n",
       "      <td>0.215104</td>\n",
       "      <td>-0.345858</td>\n",
       "      <td>0.736657</td>\n",
       "      <td>0.674783</td>\n",
       "      <td>0.303559</td>\n",
       "      <td>-0.284161</td>\n",
       "      <td>0.288188</td>\n",
       "      <td>-0.200527</td>\n",
       "      <td>1.000000</td>\n",
       "    </tr>\n",
       "  </tbody>\n",
       "</table>\n",
       "</div>"
      ],
      "text/plain": [
       "             crim        zn     indus      chas       nox        rm       age  \\\n",
       "crim     1.000000 -0.197322  0.409378 -0.059750  0.379677 -0.193401  0.359631   \n",
       "zn      -0.197322  1.000000 -0.540976 -0.072713 -0.536206  0.315605 -0.573066   \n",
       "indus    0.409378 -0.540976  1.000000  0.107725  0.784689 -0.366885  0.663979   \n",
       "chas    -0.059750 -0.072713  0.107725  1.000000  0.139931  0.053483  0.121054   \n",
       "nox      0.379677 -0.536206  0.784689  0.139931  1.000000 -0.337359  0.748030   \n",
       "rm      -0.193401  0.315605 -0.366885  0.053483 -0.337359  1.000000 -0.236483   \n",
       "age      0.359631 -0.573066  0.663979  0.121054  0.748030 -0.236483  1.000000   \n",
       "dis     -0.380406  0.633788 -0.729287 -0.127129 -0.782724  0.234713 -0.774793   \n",
       "rad      0.584009 -0.336155  0.651060 -0.024373  0.587979 -0.239489  0.486353   \n",
       "tax      0.562138 -0.333835  0.749633 -0.020667  0.659928 -0.303092  0.544688   \n",
       "ptratio  0.298079 -0.401882  0.397710 -0.122748  0.182121 -0.374491  0.253161   \n",
       "black   -0.368809  0.162630 -0.327822  0.054415 -0.296167  0.087027 -0.271052   \n",
       "lstat    0.438809 -0.406749  0.604924 -0.032599  0.613136 -0.604993  0.608407   \n",
       "medv    -0.382502  0.351912 -0.427513  0.132884 -0.407626  0.702971 -0.336254   \n",
       "index    0.400750 -0.135685  0.409251 -0.012038  0.379563 -0.085415  0.215104   \n",
       "\n",
       "              dis       rad       tax   ptratio     black     lstat      medv  \\\n",
       "crim    -0.380406  0.584009  0.562138  0.298079 -0.368809  0.438809 -0.382502   \n",
       "zn       0.633788 -0.336155 -0.333835 -0.401882  0.162630 -0.406749  0.351912   \n",
       "indus   -0.729287  0.651060  0.749633  0.397710 -0.327822  0.604924 -0.427513   \n",
       "chas    -0.127129 -0.024373 -0.020667 -0.122748  0.054415 -0.032599  0.132884   \n",
       "nox     -0.782724  0.587979  0.659928  0.182121 -0.296167  0.613136 -0.407626   \n",
       "rm       0.234713 -0.239489 -0.303092 -0.374491  0.087027 -0.604993  0.702971   \n",
       "age     -0.774793  0.486353  0.544688  0.253161 -0.271052  0.608407 -0.336254   \n",
       "dis      1.000000 -0.527503 -0.576978 -0.245451  0.279551 -0.521830  0.233082   \n",
       "rad     -0.527503  1.000000  0.940211  0.513998 -0.400439  0.513454 -0.382788   \n",
       "tax     -0.576978  0.940211  1.000000  0.486271 -0.406254  0.568570 -0.446070   \n",
       "ptratio -0.245451  0.513998  0.486271  1.000000 -0.185761  0.391209 -0.504334   \n",
       "black    0.279551 -0.400439 -0.406254 -0.185761  1.000000 -0.302629  0.280245   \n",
       "lstat   -0.521830  0.513454  0.568570  0.391209 -0.302629  1.000000 -0.744872   \n",
       "medv     0.233082 -0.382788 -0.446070 -0.504334  0.280245 -0.744872  1.000000   \n",
       "index   -0.345858  0.736657  0.674783  0.303559 -0.284161  0.288188 -0.200527   \n",
       "\n",
       "            index  \n",
       "crim     0.400750  \n",
       "zn      -0.135685  \n",
       "indus    0.409251  \n",
       "chas    -0.012038  \n",
       "nox      0.379563  \n",
       "rm      -0.085415  \n",
       "age      0.215104  \n",
       "dis     -0.345858  \n",
       "rad      0.736657  \n",
       "tax      0.674783  \n",
       "ptratio  0.303559  \n",
       "black   -0.284161  \n",
       "lstat    0.288188  \n",
       "medv    -0.200527  \n",
       "index    1.000000  "
      ]
     },
     "execution_count": 18,
     "metadata": {},
     "output_type": "execute_result"
    }
   ],
   "source": [
    "X_validation.corr()"
   ]
  },
  {
   "cell_type": "markdown",
   "metadata": {},
   "source": [
    "It is expected that cross-correlations of all dataset, train, and validation datasets will be different. In order to avoid overfitting, I will choose features based on the cross-correlation coefficients of the train dataset, and will use the same seed for train/test split in data modeling.\n",
    "<br>\n",
    "1. medv*lstat -0.73  % lower status of the population <br>\n",
    "2. medv*rm 0.695  average number of rooms per dwelling <br>\n",
    "3. medv*ptratio -0.507  pupil-teacher ratio by town <br>\n",
    "4. medv*indus -0.48  proportion of non-retail business acres per town <br>\n",
    "5. medv*tax -0.46 full-value property-tax rate per 10.000 dollars <br>\n",
    "6. medv*nox -0.42 nitric oxides concentration (parts per 10 million) <br>\n",
    "7. medv*crim -0.388 per capita crime rate by town <br>\n",
    "8. medv*rad -0.38  index of accessibility to radial highways <br>\n",
    "9. medv*age -0.37 proportion of owner-occupied units built prior to 1940 <br>\n",
    "<br>\n",
    "\n",
    "\n",
    "\n",
    "Coefficients in order of train dataset<br>\n",
    " medv*lstat -0.73  % lower status of the population <br>\n",
    " medv*rm 0.689  average number of rooms per dwelling <br>\n",
    " medv*indus -0.56  proportion of non-retail business acres per town<br>\n",
    " medv*nox -0.507 nitric oxides concentration (parts per 10 million)<br>\n",
    " medv*ptratio -0.502  pupil-teacher ratio by town <br>\n",
    " medv*tax -0.46 full-value property-tax rate per 10.000 dollars <br>\n",
    " medv*crim -0.446 per capita crime rate by town <br>\n",
    " medv*age -0.43 proportion of owner-occupied units built prior to 1940<br>\n",
    " medv*rad -0.39  index of accessibility to radial highways <br>\n",
    "\n",
    "Based on these differences in order and the order itself, I will choose for the first test\n",
    "following features:\n",
    "<br>\n",
    "lstat <br>\n",
    "rm <br>\n",
    "indus<br>\n",
    "nox<br>\n",
    "\n",
    "\n"
   ]
  },
  {
   "cell_type": "markdown",
   "metadata": {},
   "source": [
    "## Data visualizations\n",
    "\n",
    "Some features are exponential, some are modal.\n"
   ]
  },
  {
   "cell_type": "code",
   "execution_count": 127,
   "metadata": {},
   "outputs": [
    {
     "data": {
      "image/png": "[encoded data removed]",
      "text/plain": [
       "<Figure size 648x504 with 4 Axes>"
      ]
     },
     "metadata": {
      "needs_background": "light"
     },
     "output_type": "display_data"
    }
   ],
   "source": [
    "# histograms\n",
    "features4 = data[['rm','lstat','indus','nox']]\n",
    "features4.hist(bins=10,figsize=(9,7),grid=False);"
   ]
  },
  {
   "cell_type": "markdown",
   "metadata": {},
   "source": [
    "2 Features are normally distributed (rm and lstat), however indus and nox are not normally distributed.\n",
    "Will try to apply StandardScaler for a choice of an algorithm anyway.\n"
   ]
  },
  {
   "cell_type": "code",
   "execution_count": 128,
   "metadata": {},
   "outputs": [
    {
     "name": "stderr",
     "output_type": "stream",
     "text": [
      "C:\\Users\\dave_\\Anaconda3_2\\lib\\site-packages\\scipy\\stats\\stats.py:1713: FutureWarning: Using a non-tuple sequence for multidimensional indexing is deprecated; use `arr[tuple(seq)]` instead of `arr[seq]`. In the future this will be interpreted as an array index, `arr[np.array(seq)]`, which will result either in an error or a different result.\n",
      "  return np.add.reduce(sorted[indexer] * weights, axis=axis) / sumval\n"
     ]
    },
    {
     "data": {
      "image/png": "[encoded data removed]",
      "text/plain": [
       "<Figure size 432x288 with 1 Axes>"
      ]
     },
     "metadata": {
      "needs_background": "light"
     },
     "output_type": "display_data"
    },
    {
     "data": {
      "image/png": "[encoded data removed]",
      "text/plain": [
       "<Figure size 432x288 with 1 Axes>"
      ]
     },
     "metadata": {
      "needs_background": "light"
     },
     "output_type": "display_data"
    }
   ],
   "source": [
    "#histogram\n",
    "from scipy import stats\n",
    "sns.distplot(data['medv']);\n",
    "\n",
    "\n",
    "fig=plt.figure()\n",
    "res=stats.probplot(data['medv'], plot=plt)"
   ]
  },
  {
   "cell_type": "markdown",
   "metadata": {},
   "source": [
    "It shows 'peakedness', positive skewness and does not follow the diagonal line. A simple data transformation can solve the problem. Will do in by standardizing the data\n",
    "\n",
    "## Data Preprocessing\n",
    "\n"
   ]
  },
  {
   "cell_type": "markdown",
   "metadata": {},
   "source": [
    "## Developing a Model\n",
    "<br>\n",
    "\n",
    "\n",
    "## Implementation: Define a Performance Metric\n",
    "\n",
    "It is difficult to measure the quality of a given model without quantifying its performance over training and testing. This is typically done using some type of performance metric, whether it is through calculating some type of error, the goodness of fit, or some other useful measurement. For this project, I will be calculating the coefficient of determination, R2, to quantify my model's performance. The coefficient of determination for a model is a useful statistic in regression analysis, as it often describes how \"good\" that model is at making predictions.\n",
    "\n",
    "The values for R2 range from 0 to 1, which captures the percentage of squared correlation between the predicted and actual values of the target variable. A model with an R2 of 0 is no better than a model that always predicts the mean of the target variable, whereas a model with an R2 of 1 perfectly predicts the target variable. Any value between 0 and 1 indicates what percentage of the target variable, using this model, can be explained by the features. A model can be given a negative R2 as well, which indicates that the model is arbitrarily worse than one that always predicts the mean of the target variable.\n",
    "\n",
    "For the performance_metric function in the code cell below, I will need to implement the following:\n",
    "\n",
    "Use r2_score from sklearn.metrics to perform a performance calculation between y_true and y_predict.\n",
    "Assign the performance score to the score variable."
   ]
  },
  {
   "cell_type": "code",
   "execution_count": 129,
   "metadata": {},
   "outputs": [],
   "source": [
    "#Import 'r2_score'\n",
    "from sklearn.metrics import r2_score\n",
    "\n",
    "def performance_metric(y_true, y_predict):\n",
    "    \"\"\" Calculates and returns the performance score between \n",
    "        true and predicted values based on the metric chosen. \"\"\"\n",
    "    \n",
    "    # TODO: Calculate the performance score between 'y_true' and 'y_predict'\n",
    "    score = r2_score(y_true,y_predict)\n",
    "    \n",
    "    # Return the score\n",
    "    return score"
   ]
  },
  {
   "cell_type": "markdown",
   "metadata": {},
   "source": [
    "## Implementation: Shuffle and Split Data\n",
    "Your next implementation requires that you take the Boston housing dataset and split the data into training and testing subsets. Typically, the data is also shuffled into a random order when creating the training and testing subsets to remove any bias in the ordering of the dataset.\n",
    "\n",
    "For the code cell below, you will need to implement the following:\n",
    "\n",
    "Use train_test_split from sklearn.cross_validation to shuffle and split the features and prices data into training and testing sets.\n",
    "Split the data into 80% training and 20% testing.\n",
    "Set the random_state for train_test_split to a value of your choice. This ensures results are consistent.\n",
    "Assign the train and testing splits to X_train, X_test, y_train, and y_test.\n",
    "\n",
    "\n",
    "\n",
    "In the first test I split data 20% train set - 80% test set\n",
    "Accuracy of prediction is higher on test set! That rarely could be the case, but it happens on all 3 algorithms that were tuned in.\n",
    "So, In next run, I want to compare results if data will be split 50% / 50%\n"
   ]
  },
  {
   "cell_type": "code",
   "execution_count": 130,
   "metadata": {},
   "outputs": [],
   "source": [
    "# Import 'train_test_split'\n",
    "from sklearn.model_selection import train_test_split \n",
    "\n",
    "features = data[['rm','lstat','indus','nox']]\n",
    "\n",
    "# Split-out validation dataset\n",
    "\n",
    "seed = 40\n",
    "X_train, X_validation, Y_train, Y_validation = train_test_split(features, prices, test_size=0.5, random_state = seed)\n"
   ]
  },
  {
   "cell_type": "code",
   "execution_count": 131,
   "metadata": {},
   "outputs": [
    {
     "name": "stdout",
     "output_type": "stream",
     "text": [
      "LR: -25.813600 (13.783132)\n",
      "LASSO: -29.309775 (13.901203)\n",
      "EN: -28.878706 (13.702165)\n",
      "KNN: -23.323371 (10.815635)\n"
     ]
    },
    {
     "name": "stderr",
     "output_type": "stream",
     "text": [
      "C:\\Users\\dave_\\Anaconda3_2\\lib\\site-packages\\sklearn\\ensemble\\forest.py:246: FutureWarning: The default value of n_estimators will change from 10 in version 0.20 to 100 in 0.22.\n",
      "  \"10 in version 0.20 to 100 in 0.22.\", FutureWarning)\n",
      "C:\\Users\\dave_\\Anaconda3_2\\lib\\site-packages\\sklearn\\ensemble\\forest.py:246: FutureWarning: The default value of n_estimators will change from 10 in version 0.20 to 100 in 0.22.\n",
      "  \"10 in version 0.20 to 100 in 0.22.\", FutureWarning)\n",
      "C:\\Users\\dave_\\Anaconda3_2\\lib\\site-packages\\sklearn\\ensemble\\forest.py:246: FutureWarning: The default value of n_estimators will change from 10 in version 0.20 to 100 in 0.22.\n",
      "  \"10 in version 0.20 to 100 in 0.22.\", FutureWarning)\n",
      "C:\\Users\\dave_\\Anaconda3_2\\lib\\site-packages\\sklearn\\ensemble\\forest.py:246: FutureWarning: The default value of n_estimators will change from 10 in version 0.20 to 100 in 0.22.\n",
      "  \"10 in version 0.20 to 100 in 0.22.\", FutureWarning)\n",
      "C:\\Users\\dave_\\Anaconda3_2\\lib\\site-packages\\sklearn\\ensemble\\forest.py:246: FutureWarning: The default value of n_estimators will change from 10 in version 0.20 to 100 in 0.22.\n",
      "  \"10 in version 0.20 to 100 in 0.22.\", FutureWarning)\n",
      "C:\\Users\\dave_\\Anaconda3_2\\lib\\site-packages\\sklearn\\ensemble\\forest.py:246: FutureWarning: The default value of n_estimators will change from 10 in version 0.20 to 100 in 0.22.\n",
      "  \"10 in version 0.20 to 100 in 0.22.\", FutureWarning)\n",
      "C:\\Users\\dave_\\Anaconda3_2\\lib\\site-packages\\sklearn\\ensemble\\forest.py:246: FutureWarning: The default value of n_estimators will change from 10 in version 0.20 to 100 in 0.22.\n",
      "  \"10 in version 0.20 to 100 in 0.22.\", FutureWarning)\n",
      "C:\\Users\\dave_\\Anaconda3_2\\lib\\site-packages\\sklearn\\ensemble\\forest.py:246: FutureWarning: The default value of n_estimators will change from 10 in version 0.20 to 100 in 0.22.\n",
      "  \"10 in version 0.20 to 100 in 0.22.\", FutureWarning)\n",
      "C:\\Users\\dave_\\Anaconda3_2\\lib\\site-packages\\sklearn\\ensemble\\forest.py:246: FutureWarning: The default value of n_estimators will change from 10 in version 0.20 to 100 in 0.22.\n",
      "  \"10 in version 0.20 to 100 in 0.22.\", FutureWarning)\n",
      "C:\\Users\\dave_\\Anaconda3_2\\lib\\site-packages\\sklearn\\ensemble\\forest.py:246: FutureWarning: The default value of n_estimators will change from 10 in version 0.20 to 100 in 0.22.\n",
      "  \"10 in version 0.20 to 100 in 0.22.\", FutureWarning)\n",
      "C:\\Users\\dave_\\Anaconda3_2\\lib\\site-packages\\sklearn\\svm\\base.py:196: FutureWarning: The default value of gamma will change from 'auto' to 'scale' in version 0.22 to account better for unscaled features. Set gamma explicitly to 'auto' or 'scale' to avoid this warning.\n",
      "  \"avoid this warning.\", FutureWarning)\n"
     ]
    },
    {
     "name": "stdout",
     "output_type": "stream",
     "text": [
      "RF: -18.721199 (11.915932)\n",
      "DT: -26.345225 (13.882808)\n",
      "SVR: -38.105163 (17.440466)\n"
     ]
    },
    {
     "name": "stderr",
     "output_type": "stream",
     "text": [
      "C:\\Users\\dave_\\Anaconda3_2\\lib\\site-packages\\sklearn\\svm\\base.py:196: FutureWarning: The default value of gamma will change from 'auto' to 'scale' in version 0.22 to account better for unscaled features. Set gamma explicitly to 'auto' or 'scale' to avoid this warning.\n",
      "  \"avoid this warning.\", FutureWarning)\n",
      "C:\\Users\\dave_\\Anaconda3_2\\lib\\site-packages\\sklearn\\svm\\base.py:196: FutureWarning: The default value of gamma will change from 'auto' to 'scale' in version 0.22 to account better for unscaled features. Set gamma explicitly to 'auto' or 'scale' to avoid this warning.\n",
      "  \"avoid this warning.\", FutureWarning)\n",
      "C:\\Users\\dave_\\Anaconda3_2\\lib\\site-packages\\sklearn\\svm\\base.py:196: FutureWarning: The default value of gamma will change from 'auto' to 'scale' in version 0.22 to account better for unscaled features. Set gamma explicitly to 'auto' or 'scale' to avoid this warning.\n",
      "  \"avoid this warning.\", FutureWarning)\n",
      "C:\\Users\\dave_\\Anaconda3_2\\lib\\site-packages\\sklearn\\svm\\base.py:196: FutureWarning: The default value of gamma will change from 'auto' to 'scale' in version 0.22 to account better for unscaled features. Set gamma explicitly to 'auto' or 'scale' to avoid this warning.\n",
      "  \"avoid this warning.\", FutureWarning)\n",
      "C:\\Users\\dave_\\Anaconda3_2\\lib\\site-packages\\sklearn\\svm\\base.py:196: FutureWarning: The default value of gamma will change from 'auto' to 'scale' in version 0.22 to account better for unscaled features. Set gamma explicitly to 'auto' or 'scale' to avoid this warning.\n",
      "  \"avoid this warning.\", FutureWarning)\n",
      "C:\\Users\\dave_\\Anaconda3_2\\lib\\site-packages\\sklearn\\svm\\base.py:196: FutureWarning: The default value of gamma will change from 'auto' to 'scale' in version 0.22 to account better for unscaled features. Set gamma explicitly to 'auto' or 'scale' to avoid this warning.\n",
      "  \"avoid this warning.\", FutureWarning)\n",
      "C:\\Users\\dave_\\Anaconda3_2\\lib\\site-packages\\sklearn\\svm\\base.py:196: FutureWarning: The default value of gamma will change from 'auto' to 'scale' in version 0.22 to account better for unscaled features. Set gamma explicitly to 'auto' or 'scale' to avoid this warning.\n",
      "  \"avoid this warning.\", FutureWarning)\n",
      "C:\\Users\\dave_\\Anaconda3_2\\lib\\site-packages\\sklearn\\svm\\base.py:196: FutureWarning: The default value of gamma will change from 'auto' to 'scale' in version 0.22 to account better for unscaled features. Set gamma explicitly to 'auto' or 'scale' to avoid this warning.\n",
      "  \"avoid this warning.\", FutureWarning)\n",
      "C:\\Users\\dave_\\Anaconda3_2\\lib\\site-packages\\sklearn\\svm\\base.py:196: FutureWarning: The default value of gamma will change from 'auto' to 'scale' in version 0.22 to account better for unscaled features. Set gamma explicitly to 'auto' or 'scale' to avoid this warning.\n",
      "  \"avoid this warning.\", FutureWarning)\n"
     ]
    }
   ],
   "source": [
    "# Test options and evaluation metric using Root Mean Square error method\n",
    "num_folds = 10\n",
    "seed = 7\n",
    "RMS = 'neg_mean_squared_error'\n",
    "\n",
    "# Spot Check Algorithms\n",
    "models = []\n",
    "models.append(('LR', LinearRegression()))\n",
    "models.append(('LASSO', Lasso()))\n",
    "models.append(('EN', ElasticNet()))\n",
    "models.append(('KNN', KNeighborsRegressor()))\n",
    "models.append(('RF', RandomForestRegressor()))\n",
    "models.append(('DT', DecisionTreeRegressor()))\n",
    "models.append(('SVR', SVR()))\n",
    "\n",
    "\n",
    "\n",
    "results = []\n",
    "names = []\n",
    "for name, model in models:\n",
    "    kfold = KFold(n_splits=num_folds, random_state=seed)\n",
    "    cv_results = cross_val_score(model, X_train, Y_train, cv=kfold, scoring=RMS)\n",
    "    results.append(cv_results)\n",
    "    names.append(name)\n",
    "    msg = \"%s: %f (%f)\" % (name, cv_results.mean(), cv_results.std())\n",
    "    print(msg)"
   ]
  },
  {
   "cell_type": "markdown",
   "metadata": {},
   "source": [
    "## Compare algorithms"
   ]
  },
  {
   "cell_type": "code",
   "execution_count": 132,
   "metadata": {},
   "outputs": [
    {
     "data": {
      "image/png": "[encoded data removed]",
      "text/plain": [
       "<Figure size 432x288 with 1 Axes>"
      ]
     },
     "metadata": {
      "needs_background": "light"
     },
     "output_type": "display_data"
    }
   ],
   "source": [
    "fig = pyplot.figure()\n",
    "fig.suptitle('Algorithm Comparison')\n",
    "ax = fig.add_subplot(111)\n",
    "pyplot.boxplot(results)\n",
    "ax.set_xticklabels(names)\n",
    "pyplot.show()"
   ]
  },
  {
   "cell_type": "markdown",
   "metadata": {},
   "source": [
    "For Tree methods like Decision Tree and Random Forest feature scaling is not needed, therefore, it is obvious why these two methods work best on non-scaled data in comparison with other methods where scaling is essential. So, next step is to apply standardscaler() to data and check how others algorithms would perform."
   ]
  },
  {
   "cell_type": "markdown",
   "metadata": {},
   "source": [
    "## Standardize the dataset with StandardScaler()\n",
    "Standartization is a common requirement for many machine learning estimators, as they might behave bad;y if the individual features do not more of less look like standard normally distributed data.\n",
    "\n",
    "Here, we will use StandardScaler(), as 2 out of 4 features are normally distrubuted.\n",
    "The StandardScaler assumes your data is normally distributed within each feature and will scale them such that the distribution is now centred around 0, with a standard deviation of 1.\n"
   ]
  },
  {
   "cell_type": "code",
   "execution_count": 133,
   "metadata": {},
   "outputs": [
    {
     "name": "stdout",
     "output_type": "stream",
     "text": [
      "ScLR: -25.813600 (13.783132)\n",
      "ScLASSO: -27.107121 (13.247252)\n",
      "ScEN: -28.166034 (14.322652)\n",
      "ScKNN: -19.124115 (11.794934)\n",
      "ScDT: -28.236786 (14.009911)\n",
      "ScSVR: -22.586194 (12.636752)\n",
      "ScRF: -18.463560 (11.487055)\n"
     ]
    },
    {
     "name": "stderr",
     "output_type": "stream",
     "text": [
      "C:\\Users\\dave_\\Anaconda3_2\\lib\\site-packages\\sklearn\\ensemble\\forest.py:246: FutureWarning: The default value of n_estimators will change from 10 in version 0.20 to 100 in 0.22.\n",
      "  \"10 in version 0.20 to 100 in 0.22.\", FutureWarning)\n",
      "C:\\Users\\dave_\\Anaconda3_2\\lib\\site-packages\\sklearn\\ensemble\\forest.py:246: FutureWarning: The default value of n_estimators will change from 10 in version 0.20 to 100 in 0.22.\n",
      "  \"10 in version 0.20 to 100 in 0.22.\", FutureWarning)\n",
      "C:\\Users\\dave_\\Anaconda3_2\\lib\\site-packages\\sklearn\\ensemble\\forest.py:246: FutureWarning: The default value of n_estimators will change from 10 in version 0.20 to 100 in 0.22.\n",
      "  \"10 in version 0.20 to 100 in 0.22.\", FutureWarning)\n",
      "C:\\Users\\dave_\\Anaconda3_2\\lib\\site-packages\\sklearn\\ensemble\\forest.py:246: FutureWarning: The default value of n_estimators will change from 10 in version 0.20 to 100 in 0.22.\n",
      "  \"10 in version 0.20 to 100 in 0.22.\", FutureWarning)\n",
      "C:\\Users\\dave_\\Anaconda3_2\\lib\\site-packages\\sklearn\\ensemble\\forest.py:246: FutureWarning: The default value of n_estimators will change from 10 in version 0.20 to 100 in 0.22.\n",
      "  \"10 in version 0.20 to 100 in 0.22.\", FutureWarning)\n",
      "C:\\Users\\dave_\\Anaconda3_2\\lib\\site-packages\\sklearn\\ensemble\\forest.py:246: FutureWarning: The default value of n_estimators will change from 10 in version 0.20 to 100 in 0.22.\n",
      "  \"10 in version 0.20 to 100 in 0.22.\", FutureWarning)\n",
      "C:\\Users\\dave_\\Anaconda3_2\\lib\\site-packages\\sklearn\\ensemble\\forest.py:246: FutureWarning: The default value of n_estimators will change from 10 in version 0.20 to 100 in 0.22.\n",
      "  \"10 in version 0.20 to 100 in 0.22.\", FutureWarning)\n",
      "C:\\Users\\dave_\\Anaconda3_2\\lib\\site-packages\\sklearn\\ensemble\\forest.py:246: FutureWarning: The default value of n_estimators will change from 10 in version 0.20 to 100 in 0.22.\n",
      "  \"10 in version 0.20 to 100 in 0.22.\", FutureWarning)\n",
      "C:\\Users\\dave_\\Anaconda3_2\\lib\\site-packages\\sklearn\\ensemble\\forest.py:246: FutureWarning: The default value of n_estimators will change from 10 in version 0.20 to 100 in 0.22.\n",
      "  \"10 in version 0.20 to 100 in 0.22.\", FutureWarning)\n",
      "C:\\Users\\dave_\\Anaconda3_2\\lib\\site-packages\\sklearn\\ensemble\\forest.py:246: FutureWarning: The default value of n_estimators will change from 10 in version 0.20 to 100 in 0.22.\n",
      "  \"10 in version 0.20 to 100 in 0.22.\", FutureWarning)\n"
     ]
    }
   ],
   "source": [
    "pipelines = []\n",
    "pipelines.append(('ScLR', Pipeline([('Scaler', StandardScaler()),('LR', LinearRegression())])))\n",
    "pipelines.append(('ScLASSO', Pipeline([('Scaler', StandardScaler()),('LASSO', Lasso())])))\n",
    "pipelines.append(('ScEN', Pipeline([('Scaler', StandardScaler()),('EN', ElasticNet())])))\n",
    "pipelines.append(('ScKNN', Pipeline([('Scaler', StandardScaler()),('KNN', KNeighborsRegressor())])))\n",
    "pipelines.append(('ScDT', Pipeline([('Scaler', StandardScaler()),('DT', DecisionTreeRegressor())])))\n",
    "pipelines.append(('ScSVR', Pipeline([('Scaler', StandardScaler()),('SVR', SVR())])))\n",
    "pipelines.append(('ScRF', Pipeline([('Scaler', StandardScaler()),('RF', RandomForestRegressor())])))\n",
    "\n",
    "\n",
    "results = []\n",
    "names = []\n",
    "for name, model in pipelines:\n",
    "\tkfold = KFold(n_splits=num_folds, random_state=seed)\n",
    "\tcv_results = cross_val_score(model, X_train, Y_train, cv=kfold, scoring=RMS)\n",
    "\tresults.append(cv_results)\n",
    "\tnames.append(name)\n",
    "\tmsg = \"%s: %f (%f)\" % (name, cv_results.mean(), cv_results.std())\n",
    "\tprint(msg)"
   ]
  },
  {
   "cell_type": "markdown",
   "metadata": {},
   "source": [
    "SO, 3 of the best algorothms are KNN, Decision Tree and RandomForest"
   ]
  },
  {
   "cell_type": "code",
   "execution_count": 134,
   "metadata": {},
   "outputs": [
    {
     "data": {
      "image/png": "[encoded data removed]",
      "text/plain": [
       "<Figure size 432x288 with 1 Axes>"
      ]
     },
     "metadata": {
      "needs_background": "light"
     },
     "output_type": "display_data"
    }
   ],
   "source": [
    "fig = pyplot.figure()\n",
    "fig.suptitle('Scaled Algorithm Comparison')\n",
    "ax = fig.add_subplot(111)\n",
    "pyplot.boxplot(results)\n",
    "ax.set_xticklabels(names)\n",
    "pyplot.show()"
   ]
  },
  {
   "cell_type": "markdown",
   "metadata": {},
   "source": [
    "KNN on scaled data performs better than other algorithms.\n",
    "\n",
    "\n",
    "## Ensembles\n",
    "Comparing Scaler+KNN with boosting algorithms like AdaBooster, Gradient Boosting, RandomForest (best without scaling), and ExtraTreeRegressor.\n",
    "\n"
   ]
  },
  {
   "cell_type": "code",
   "execution_count": 135,
   "metadata": {},
   "outputs": [
    {
     "name": "stdout",
     "output_type": "stream",
     "text": [
      "ScaledKNN: -19.124115 (11.794934)\n",
      "ScaledAB: -22.738470 (11.997434)\n",
      "ScaledGBM: -18.172726 (11.267602)\n",
      "ScaledRF: -20.404779 (10.156085)\n"
     ]
    },
    {
     "name": "stderr",
     "output_type": "stream",
     "text": [
      "C:\\Users\\dave_\\Anaconda3_2\\lib\\site-packages\\sklearn\\ensemble\\forest.py:246: FutureWarning: The default value of n_estimators will change from 10 in version 0.20 to 100 in 0.22.\n",
      "  \"10 in version 0.20 to 100 in 0.22.\", FutureWarning)\n",
      "C:\\Users\\dave_\\Anaconda3_2\\lib\\site-packages\\sklearn\\ensemble\\forest.py:246: FutureWarning: The default value of n_estimators will change from 10 in version 0.20 to 100 in 0.22.\n",
      "  \"10 in version 0.20 to 100 in 0.22.\", FutureWarning)\n",
      "C:\\Users\\dave_\\Anaconda3_2\\lib\\site-packages\\sklearn\\ensemble\\forest.py:246: FutureWarning: The default value of n_estimators will change from 10 in version 0.20 to 100 in 0.22.\n",
      "  \"10 in version 0.20 to 100 in 0.22.\", FutureWarning)\n",
      "C:\\Users\\dave_\\Anaconda3_2\\lib\\site-packages\\sklearn\\ensemble\\forest.py:246: FutureWarning: The default value of n_estimators will change from 10 in version 0.20 to 100 in 0.22.\n",
      "  \"10 in version 0.20 to 100 in 0.22.\", FutureWarning)\n",
      "C:\\Users\\dave_\\Anaconda3_2\\lib\\site-packages\\sklearn\\ensemble\\forest.py:246: FutureWarning: The default value of n_estimators will change from 10 in version 0.20 to 100 in 0.22.\n",
      "  \"10 in version 0.20 to 100 in 0.22.\", FutureWarning)\n",
      "C:\\Users\\dave_\\Anaconda3_2\\lib\\site-packages\\sklearn\\ensemble\\forest.py:246: FutureWarning: The default value of n_estimators will change from 10 in version 0.20 to 100 in 0.22.\n",
      "  \"10 in version 0.20 to 100 in 0.22.\", FutureWarning)\n",
      "C:\\Users\\dave_\\Anaconda3_2\\lib\\site-packages\\sklearn\\ensemble\\forest.py:246: FutureWarning: The default value of n_estimators will change from 10 in version 0.20 to 100 in 0.22.\n",
      "  \"10 in version 0.20 to 100 in 0.22.\", FutureWarning)\n",
      "C:\\Users\\dave_\\Anaconda3_2\\lib\\site-packages\\sklearn\\ensemble\\forest.py:246: FutureWarning: The default value of n_estimators will change from 10 in version 0.20 to 100 in 0.22.\n",
      "  \"10 in version 0.20 to 100 in 0.22.\", FutureWarning)\n",
      "C:\\Users\\dave_\\Anaconda3_2\\lib\\site-packages\\sklearn\\ensemble\\forest.py:246: FutureWarning: The default value of n_estimators will change from 10 in version 0.20 to 100 in 0.22.\n",
      "  \"10 in version 0.20 to 100 in 0.22.\", FutureWarning)\n",
      "C:\\Users\\dave_\\Anaconda3_2\\lib\\site-packages\\sklearn\\ensemble\\forest.py:246: FutureWarning: The default value of n_estimators will change from 10 in version 0.20 to 100 in 0.22.\n",
      "  \"10 in version 0.20 to 100 in 0.22.\", FutureWarning)\n",
      "C:\\Users\\dave_\\Anaconda3_2\\lib\\site-packages\\sklearn\\ensemble\\forest.py:246: FutureWarning: The default value of n_estimators will change from 10 in version 0.20 to 100 in 0.22.\n",
      "  \"10 in version 0.20 to 100 in 0.22.\", FutureWarning)\n",
      "C:\\Users\\dave_\\Anaconda3_2\\lib\\site-packages\\sklearn\\ensemble\\forest.py:246: FutureWarning: The default value of n_estimators will change from 10 in version 0.20 to 100 in 0.22.\n",
      "  \"10 in version 0.20 to 100 in 0.22.\", FutureWarning)\n",
      "C:\\Users\\dave_\\Anaconda3_2\\lib\\site-packages\\sklearn\\ensemble\\forest.py:246: FutureWarning: The default value of n_estimators will change from 10 in version 0.20 to 100 in 0.22.\n",
      "  \"10 in version 0.20 to 100 in 0.22.\", FutureWarning)\n",
      "C:\\Users\\dave_\\Anaconda3_2\\lib\\site-packages\\sklearn\\ensemble\\forest.py:246: FutureWarning: The default value of n_estimators will change from 10 in version 0.20 to 100 in 0.22.\n",
      "  \"10 in version 0.20 to 100 in 0.22.\", FutureWarning)\n"
     ]
    },
    {
     "name": "stdout",
     "output_type": "stream",
     "text": [
      "ScaledET: -17.633103 (10.243810)\n"
     ]
    },
    {
     "name": "stderr",
     "output_type": "stream",
     "text": [
      "C:\\Users\\dave_\\Anaconda3_2\\lib\\site-packages\\sklearn\\ensemble\\forest.py:246: FutureWarning: The default value of n_estimators will change from 10 in version 0.20 to 100 in 0.22.\n",
      "  \"10 in version 0.20 to 100 in 0.22.\", FutureWarning)\n",
      "C:\\Users\\dave_\\Anaconda3_2\\lib\\site-packages\\sklearn\\ensemble\\forest.py:246: FutureWarning: The default value of n_estimators will change from 10 in version 0.20 to 100 in 0.22.\n",
      "  \"10 in version 0.20 to 100 in 0.22.\", FutureWarning)\n",
      "C:\\Users\\dave_\\Anaconda3_2\\lib\\site-packages\\sklearn\\ensemble\\forest.py:246: FutureWarning: The default value of n_estimators will change from 10 in version 0.20 to 100 in 0.22.\n",
      "  \"10 in version 0.20 to 100 in 0.22.\", FutureWarning)\n",
      "C:\\Users\\dave_\\Anaconda3_2\\lib\\site-packages\\sklearn\\ensemble\\forest.py:246: FutureWarning: The default value of n_estimators will change from 10 in version 0.20 to 100 in 0.22.\n",
      "  \"10 in version 0.20 to 100 in 0.22.\", FutureWarning)\n",
      "C:\\Users\\dave_\\Anaconda3_2\\lib\\site-packages\\sklearn\\ensemble\\forest.py:246: FutureWarning: The default value of n_estimators will change from 10 in version 0.20 to 100 in 0.22.\n",
      "  \"10 in version 0.20 to 100 in 0.22.\", FutureWarning)\n",
      "C:\\Users\\dave_\\Anaconda3_2\\lib\\site-packages\\sklearn\\ensemble\\forest.py:246: FutureWarning: The default value of n_estimators will change from 10 in version 0.20 to 100 in 0.22.\n",
      "  \"10 in version 0.20 to 100 in 0.22.\", FutureWarning)\n"
     ]
    }
   ],
   "source": [
    "ensembles = []\n",
    "ensembles.append(('ScaledKNN', Pipeline([('Scaler', StandardScaler()),('KNN', KNeighborsRegressor())])))\n",
    "ensembles.append(('ScaledAB', Pipeline([('Scaler', StandardScaler()),('AB', AdaBoostRegressor())])))\n",
    "ensembles.append(('ScaledGBM', Pipeline([('Scaler', StandardScaler()),('GBM', GradientBoostingRegressor())])))\n",
    "ensembles.append(('ScaledRF', Pipeline([('Scaler', StandardScaler()),('RF', RandomForestRegressor())])))\n",
    "ensembles.append(('ScaledET', Pipeline([('Scaler', StandardScaler()),('ET', ExtraTreesRegressor())])))\n",
    "results = []\n",
    "names = []\n",
    "for name, model in ensembles:\n",
    "\tkfold = KFold(n_splits=num_folds, random_state=seed)\n",
    "\tcv_results = cross_val_score(model, X_train, Y_train, cv=kfold, scoring=RMS)\n",
    "\tresults.append(cv_results)\n",
    "\tnames.append(name)\n",
    "\tmsg = \"%s: %f (%f)\" % (name, cv_results.mean(), cv_results.std())\n",
    "\tprint(msg)\n"
   ]
  },
  {
   "cell_type": "code",
   "execution_count": 136,
   "metadata": {},
   "outputs": [
    {
     "data": {
      "image/png": "[encoded data removed]",
      "text/plain": [
       "<Figure size 432x288 with 1 Axes>"
      ]
     },
     "metadata": {
      "needs_background": "light"
     },
     "output_type": "display_data"
    }
   ],
   "source": [
    "fig = pyplot.figure()\n",
    "fig.suptitle('Scaled Ensemble Algorithm Comparison')\n",
    "ax = fig.add_subplot(111)\n",
    "pyplot.boxplot(results)\n",
    "ax.set_xticklabels(names)\n",
    "pyplot.show()"
   ]
  },
  {
   "cell_type": "markdown",
   "metadata": {},
   "source": [
    "So, it is pretty clear that GBM is better than KNN.\n",
    "And tree based algorithms perfored better on unscalled data.\n",
    "\n",
    "So,  will tune KNN, GBM and DecisionTree and than choose where I can achieve better results.\n",
    "\n",
    "\n",
    "## Tuning KNN (K - Nearest Neighbors)"
   ]
  },
  {
   "cell_type": "code",
   "execution_count": 30,
   "metadata": {},
   "outputs": [
    {
     "data": {
      "text/plain": [
       "0    24.0\n",
       "1    21.6\n",
       "2    34.7\n",
       "Name: medv, dtype: float64"
      ]
     },
     "execution_count": 30,
     "metadata": {},
     "output_type": "execute_result"
    }
   ],
   "source": [
    "prices.head(3)"
   ]
  },
  {
   "cell_type": "code",
   "execution_count": 74,
   "metadata": {},
   "outputs": [],
   "source": [
    "# Import 'train_test_split'\n",
    "from sklearn.model_selection import train_test_split \n",
    "\n",
    "features4 = data[['rm','lstat','indus','nox']]\n",
    "\n",
    "# Split-out validation dataset\n",
    "\n",
    "seed = 40\n",
    "X_train, X_validation, Y_train, Y_validation = train_test_split(features4, prices, test_size=0.5, random_state = seed)\n",
    "\n",
    "\n",
    "from sklearn.preprocessing import StandardScaler\n",
    "scaler = StandardScaler()\n",
    "\n",
    "x_train_scaled = scaler.fit_transform(X_train)\n",
    "X_train = pd.DataFrame(x_train_scaled)\n",
    "\n",
    "x_test_scaled = scaler.fit_transform(X_validation)\n",
    "X_test = pd.DataFrame(x_test_scaled)"
   ]
  },
  {
   "cell_type": "code",
   "execution_count": 75,
   "metadata": {},
   "outputs": [
    {
     "data": {
      "text/html": [
       "<div>\n",
       "<style scoped>\n",
       "    .dataframe tbody tr th:only-of-type {\n",
       "        vertical-align: middle;\n",
       "    }\n",
       "\n",
       "    .dataframe tbody tr th {\n",
       "        vertical-align: top;\n",
       "    }\n",
       "\n",
       "    .dataframe thead th {\n",
       "        text-align: right;\n",
       "    }\n",
       "</style>\n",
       "<table border=\"1\" class=\"dataframe\">\n",
       "  <thead>\n",
       "    <tr style=\"text-align: right;\">\n",
       "      <th></th>\n",
       "      <th>0</th>\n",
       "      <th>1</th>\n",
       "      <th>2</th>\n",
       "      <th>3</th>\n",
       "    </tr>\n",
       "  </thead>\n",
       "  <tbody>\n",
       "    <tr>\n",
       "      <th>0</th>\n",
       "      <td>-0.785866</td>\n",
       "      <td>0.213693</td>\n",
       "      <td>-0.608059</td>\n",
       "      <td>-0.903438</td>\n",
       "    </tr>\n",
       "    <tr>\n",
       "      <th>1</th>\n",
       "      <td>-1.320297</td>\n",
       "      <td>0.814016</td>\n",
       "      <td>2.372840</td>\n",
       "      <td>0.539865</td>\n",
       "    </tr>\n",
       "    <tr>\n",
       "      <th>2</th>\n",
       "      <td>1.002544</td>\n",
       "      <td>-0.211599</td>\n",
       "      <td>-0.891409</td>\n",
       "      <td>-1.082731</td>\n",
       "    </tr>\n",
       "  </tbody>\n",
       "</table>\n",
       "</div>"
      ],
      "text/plain": [
       "          0         1         2         3\n",
       "0 -0.785866  0.213693 -0.608059 -0.903438\n",
       "1 -1.320297  0.814016  2.372840  0.539865\n",
       "2  1.002544 -0.211599 -0.891409 -1.082731"
      ]
     },
     "execution_count": 75,
     "metadata": {},
     "output_type": "execute_result"
    }
   ],
   "source": [
    "X_train.head(3)"
   ]
  },
  {
   "cell_type": "code",
   "execution_count": 76,
   "metadata": {},
   "outputs": [
    {
     "data": {
      "text/html": [
       "<div>\n",
       "<style scoped>\n",
       "    .dataframe tbody tr th:only-of-type {\n",
       "        vertical-align: middle;\n",
       "    }\n",
       "\n",
       "    .dataframe tbody tr th {\n",
       "        vertical-align: top;\n",
       "    }\n",
       "\n",
       "    .dataframe thead th {\n",
       "        text-align: right;\n",
       "    }\n",
       "</style>\n",
       "<table border=\"1\" class=\"dataframe\">\n",
       "  <thead>\n",
       "    <tr style=\"text-align: right;\">\n",
       "      <th></th>\n",
       "      <th>0</th>\n",
       "      <th>1</th>\n",
       "      <th>2</th>\n",
       "      <th>3</th>\n",
       "    </tr>\n",
       "  </thead>\n",
       "  <tbody>\n",
       "    <tr>\n",
       "      <th>0</th>\n",
       "      <td>-0.217114</td>\n",
       "      <td>-0.138630</td>\n",
       "      <td>1.040035</td>\n",
       "      <td>1.751675</td>\n",
       "    </tr>\n",
       "    <tr>\n",
       "      <th>1</th>\n",
       "      <td>1.048847</td>\n",
       "      <td>-0.511186</td>\n",
       "      <td>-1.428491</td>\n",
       "      <td>-1.310165</td>\n",
       "    </tr>\n",
       "    <tr>\n",
       "      <th>2</th>\n",
       "      <td>-1.157541</td>\n",
       "      <td>2.370605</td>\n",
       "      <td>-0.625997</td>\n",
       "      <td>-0.942075</td>\n",
       "    </tr>\n",
       "  </tbody>\n",
       "</table>\n",
       "</div>"
      ],
      "text/plain": [
       "          0         1         2         3\n",
       "0 -0.217114 -0.138630  1.040035  1.751675\n",
       "1  1.048847 -0.511186 -1.428491 -1.310165\n",
       "2 -1.157541  2.370605 -0.625997 -0.942075"
      ]
     },
     "execution_count": 76,
     "metadata": {},
     "output_type": "execute_result"
    }
   ],
   "source": [
    "X_test.head(3)"
   ]
  },
  {
   "cell_type": "code",
   "execution_count": 77,
   "metadata": {},
   "outputs": [
    {
     "data": {
      "text/plain": [
       "46     20.0\n",
       "488    15.2\n",
       "240    22.0\n",
       "Name: medv, dtype: float64"
      ]
     },
     "execution_count": 77,
     "metadata": {},
     "output_type": "execute_result"
    }
   ],
   "source": [
    "Y_train.head(3)"
   ]
  },
  {
   "cell_type": "code",
   "execution_count": 78,
   "metadata": {},
   "outputs": [
    {
     "data": {
      "text/plain": [
       "358    22.7\n",
       "197    30.3\n",
       "48     14.4\n",
       "Name: medv, dtype: float64"
      ]
     },
     "execution_count": 78,
     "metadata": {},
     "output_type": "execute_result"
    }
   ],
   "source": [
    "Y_validation.head(3)"
   ]
  },
  {
   "cell_type": "markdown",
   "metadata": {},
   "source": [
    "## Choosing K value for KNN values from 1 to 20"
   ]
  },
  {
   "cell_type": "code",
   "execution_count": 115,
   "metadata": {},
   "outputs": [
    {
     "name": "stdout",
     "output_type": "stream",
     "text": [
      "k=   1 score= 21.918260869565216\n",
      "k=   2 score= 25.345533596837942\n",
      "k=   3 score= 27.769828722002625\n",
      "k=   4 score= 31.473547430830042\n",
      "k=   5 score= 32.98161739130435\n",
      "k=   6 score= 30.070687307861224\n",
      "k=   7 score= 31.545499717673632\n",
      "k=   8 score= 32.47982954545454\n",
      "k=   9 score= 33.3969501781096\n",
      "k=   10 score= 34.58692371541502\n",
      "k=   11 score= 35.34653023225427\n",
      "k=   12 score= 36.57949522397892\n",
      "k=   13 score= 37.384543583506805\n",
      "k=   14 score= 38.20190005646527\n",
      "k=   15 score= 38.369520070267896\n",
      "k=   16 score= 38.91645735548419\n",
      "k=   17 score= 39.4809865010873\n",
      "k=   18 score= 39.75672339335383\n",
      "k=   19 score= 40.37780605038704\n",
      "k=   20 score= 40.731962154150196\n",
      "k=   21 score= 41.41120109703961\n",
      "k=   22 score= 42.004496374089435\n",
      "k=   23 score= 42.28722595395892\n",
      "k=   24 score= 42.899620869016246\n",
      "k=   25 score= 43.36696240316206\n",
      "k=   26 score= 43.763836038543396\n",
      "k=   27 score= 44.220271149498195\n",
      "k=   28 score= 44.56568741429378\n",
      "k=   29 score= 44.89221940753762\n",
      "k=   30 score= 45.18456530522617\n"
     ]
    }
   ],
   "source": [
    "#import required packages\n",
    "from sklearn import metrics\n",
    "\n",
    "from sklearn import neighbors\n",
    "from sklearn.metrics import mean_squared_error \n",
    "from math import sqrt\n",
    "import matplotlib.pyplot as plt\n",
    "%matplotlib inline\n",
    "from sklearn.metrics import mean_absolute_error\n",
    "\n",
    "\n",
    "\n",
    "scores = []\n",
    "\n",
    "for k in range(30):\n",
    "    \n",
    "    k=k+1\n",
    "    modelknn = neighbors.KNeighborsRegressor(n_neighbors = k)\n",
    "    modelknn.fit(X_train, Y_train)  #fit the model\n",
    "    predknn=modelknn.predict(X_test) #make prediction on test set\n",
    "    error=metrics.mean_squared_error(Y_validation,predknn)\n",
    "    scores.append(error) #calculate MEAN SQUARED ERROR  (RMSE)\n",
    "    \n",
    "    print('k=  ', k, 'score=', error)"
   ]
  },
  {
   "cell_type": "code",
   "execution_count": 116,
   "metadata": {},
   "outputs": [
    {
     "data": {
      "text/plain": [
       "<matplotlib.axes._subplots.AxesSubplot at 0x1c1a5cf0048>"
      ]
     },
     "execution_count": 116,
     "metadata": {},
     "output_type": "execute_result"
    },
    {
     "data": {
      "image/png": "[encoded data removed]",
      "text/plain": [
       "<Figure size 432x288 with 1 Axes>"
      ]
     },
     "metadata": {
      "needs_background": "light"
     },
     "output_type": "display_data"
    }
   ],
   "source": [
    "#plotting the rmse values against k values\n",
    "curve = pd.DataFrame(scores) #elbow curve \n",
    "curve.plot()"
   ]
  },
  {
   "cell_type": "markdown",
   "metadata": {},
   "source": [
    "I can safely say that k=6 will give us the best result in this case.\n",
    "\n",
    "These are the predictions using training dataset. Let us now predict the values for test dataset and make a submission.\n",
    "\n",
    "\n",
    "## Predictions on the test dataset with k=6 on train set"
   ]
  },
  {
   "cell_type": "code",
   "execution_count": 114,
   "metadata": {},
   "outputs": [
    {
     "name": "stdout",
     "output_type": "stream",
     "text": [
      "26.562621870882737\n"
     ]
    }
   ],
   "source": [
    "#predicting on the test set and creating submission file\n",
    "from sklearn.preprocessing import StandardScaler\n",
    "\n",
    "X_train, X_test, Y_train, Y_test = train_test_split(features4, prices, test_size=0.5, random_state = 40)\n",
    "\n",
    "scaler=StandardScaler().fit(X_train)\n",
    "rescaledX=scaler.transform(X_train)\n",
    "\n",
    "modelknn = neighbors.KNeighborsRegressor(n_neighbors = 3)\n",
    "modelknn.fit(rescaledX, Y_train) \n",
    "\n",
    "#transform the validation dataset\n",
    "scaler2=StandardScaler().fit(X_test)\n",
    "rescaledTestX = scaler2.transform(X_test)\n",
    "predictionsknn=modelknn.predict(rescaledTestX )\n",
    "\n",
    "\n",
    "print(mean_squared_error(Y_test,predictionsknn))"
   ]
  },
  {
   "cell_type": "code",
   "execution_count": 117,
   "metadata": {},
   "outputs": [
    {
     "name": "stdout",
     "output_type": "stream",
     "text": [
      "R-Squared on train dataset=0.7110542012113122\n",
      "R-Squared on test dataset=0.7357757639294387\n"
     ]
    }
   ],
   "source": [
    "#KNN accuracy score\n",
    "modelknn.fit(rescaledX,Y_train)   \n",
    "print(\"R-Squared on train dataset={}\".format(modelknn.score(rescaledX,Y_train)))\n",
    "\n",
    "modelknn.fit(rescaledTestX,Y_test)   \n",
    "print(\"R-Squared on test dataset={}\".format(modelknn.score(rescaledTestX,Y_test)))"
   ]
  },
  {
   "cell_type": "code",
   "execution_count": 118,
   "metadata": {},
   "outputs": [],
   "source": [
    "predictionsknn=predictionsknn.astype(int)\n",
    "submission = pd.DataFrame({\n",
    "        \"Org House Price\": Y_test,\n",
    "        \"Pred House Price KNN\": predictionsknn\n",
    "    })\n",
    "\n",
    "#submission.head(2)\n",
    "#submission.to_csv(\"PredictedPriceKNN.csv\", index=False)"
   ]
  },
  {
   "cell_type": "code",
   "execution_count": 119,
   "metadata": {},
   "outputs": [],
   "source": [
    "#merge 2 dataframes\n",
    "#X_test and submission\n",
    "#X_test.head(2)\n",
    "bigdataKNN = pd.concat([X_test, submission], axis=1)\n",
    "#bigdataKNN.head(2)\n",
    "#add index\n",
    "bigdataKNN['index']=range(1,len(bigdataKNN)+1)\n",
    "\n",
    "bigdataKNN.head(5)\n",
    "bigdataKNN.to_csv(\"PredictedPriceKNN.csv\", index=False)\n",
    "#bigdataKNN.to_csv(\"PredictedPriceKNN.csv\", index=False)"
   ]
  },
  {
   "cell_type": "code",
   "execution_count": 120,
   "metadata": {},
   "outputs": [
    {
     "name": "stderr",
     "output_type": "stream",
     "text": [
      "'c' argument looks like a single numeric RGB or RGBA sequence, which should be avoided as value-mapping will have precedence in case its length matches with 'x' & 'y'.  Please use a 2-D array with a single row if you really want to specify the same RGB or RGBA value for all points.\n"
     ]
    },
    {
     "data": {
      "image/png": "[encoded data removed]",
      "text/plain": [
       "<Figure size 432x288 with 1 Axes>"
      ]
     },
     "metadata": {
      "needs_background": "light"
     },
     "output_type": "display_data"
    }
   ],
   "source": [
    "submission.plot.scatter(x='Org House Price', y=['Pred House Price KNN'])\n",
    "plt.show()"
   ]
  },
  {
   "cell_type": "code",
   "execution_count": 121,
   "metadata": {},
   "outputs": [
    {
     "name": "stderr",
     "output_type": "stream",
     "text": [
      "'c' argument looks like a single numeric RGB or RGBA sequence, which should be avoided as value-mapping will have precedence in case its length matches with 'x' & 'y'.  Please use a 2-D array with a single row if you really want to specify the same RGB or RGBA value for all points.\n"
     ]
    },
    {
     "data": {
      "image/png": "[encoded data removed]",
      "text/plain": [
       "<Figure size 432x288 with 1 Axes>"
      ]
     },
     "metadata": {
      "needs_background": "light"
     },
     "output_type": "display_data"
    }
   ],
   "source": [
    "bigdataKNN.plot.scatter(x='index', y=['Org House Price'])\n",
    "plt.show()"
   ]
  },
  {
   "cell_type": "code",
   "execution_count": 122,
   "metadata": {},
   "outputs": [
    {
     "name": "stderr",
     "output_type": "stream",
     "text": [
      "'c' argument looks like a single numeric RGB or RGBA sequence, which should be avoided as value-mapping will have precedence in case its length matches with 'x' & 'y'.  Please use a 2-D array with a single row if you really want to specify the same RGB or RGBA value for all points.\n"
     ]
    },
    {
     "data": {
      "image/png": "[encoded data removed]",
      "text/plain": [
       "<Figure size 432x288 with 1 Axes>"
      ]
     },
     "metadata": {
      "needs_background": "light"
     },
     "output_type": "display_data"
    }
   ],
   "source": [
    "bigdataKNN.plot.scatter(x='index', y=['Pred House Price KNN'])\n",
    "plt.show()"
   ]
  },
  {
   "cell_type": "markdown",
   "metadata": {},
   "source": [
    "## Tune scaled GBM\n",
    "\n"
   ]
  },
  {
   "cell_type": "code",
   "execution_count": 123,
   "metadata": {},
   "outputs": [
    {
     "name": "stdout",
     "output_type": "stream",
     "text": [
      "Best: -18.186889 using {'n_estimators': 50}\n",
      "-19.721677 (9.682700) with: {'n_estimators': 20}\n",
      "-18.186889 (10.439639) with: {'n_estimators': 50}\n",
      "-18.270110 (11.123636) with: {'n_estimators': 100}\n",
      "-18.716156 (11.839042) with: {'n_estimators': 150}\n",
      "-18.932427 (11.955640) with: {'n_estimators': 200}\n",
      "-19.065582 (11.953615) with: {'n_estimators': 250}\n",
      "-19.252171 (12.062372) with: {'n_estimators': 300}\n",
      "-19.332908 (12.021385) with: {'n_estimators': 350}\n",
      "-19.332433 (11.928743) with: {'n_estimators': 400}\n"
     ]
    },
    {
     "name": "stderr",
     "output_type": "stream",
     "text": [
      "C:\\Users\\dave_\\Anaconda3_2\\lib\\site-packages\\sklearn\\model_selection\\_search.py:841: DeprecationWarning: The default of the `iid` parameter will change from True to False in version 0.22 and will be removed in 0.24. This will change numeric results when test-set sizes are unequal.\n",
      "  DeprecationWarning)\n"
     ]
    }
   ],
   "source": [
    "import numpy\n",
    "#split to train/test 50% each\n",
    "seed=40\n",
    "X_train, X_validation, Y_train, Y_validation = train_test_split(features4, prices, test_size=0.5, random_state = seed)\n",
    "\n",
    "\n",
    "scaler = StandardScaler().fit(X_train)\n",
    "rescaledX = scaler.transform(X_train)\n",
    "param_grid = dict(n_estimators=numpy.array([20,50,100,150,200,250,300,350,400]))\n",
    "model = GradientBoostingRegressor(random_state=seed)\n",
    "kfold = KFold(n_splits=num_folds, random_state=seed)\n",
    "grid = GridSearchCV(estimator=model, param_grid=param_grid, scoring=RMS, cv=kfold)\n",
    "grid_result = grid.fit(rescaledX, Y_train)\n",
    "\n",
    "print(\"Best: %f using %s\" % (grid_result.best_score_, grid_result.best_params_))\n",
    "means = grid_result.cv_results_['mean_test_score']\n",
    "stds = grid_result.cv_results_['std_test_score']\n",
    "params = grid_result.cv_results_['params']\n",
    "for mean, stdev, param in zip(means, stds, params):\n",
    "    print(\"%f (%f) with: %r\" % (mean, stdev, param))"
   ]
  },
  {
   "cell_type": "markdown",
   "metadata": {},
   "source": [
    "## Run prediction on Validation Set \n",
    "n_estimators=50\n",
    "\n"
   ]
  },
  {
   "cell_type": "code",
   "execution_count": 124,
   "metadata": {},
   "outputs": [
    {
     "name": "stdout",
     "output_type": "stream",
     "text": [
      "33.48769427833641\n"
     ]
    }
   ],
   "source": [
    "# prepare the model\n",
    "\n",
    "X_train, X_test, Y_train, Y_test = train_test_split(features4, prices, test_size=0.5, random_state = 40)\n",
    "\n",
    "scaler=StandardScaler()\n",
    "rescaledX=scaler.fit_transform(X_train)\n",
    "\n",
    "\n",
    "seed=40\n",
    "modelgbm = GradientBoostingRegressor(random_state=seed, n_estimators=50)\n",
    "modelgbm.fit(rescaledX, Y_train)\n",
    "\n",
    "# transform the validation dataset\n",
    "rescaledTestX=scaler.fit_transform(X_test)\n",
    "predictionsgbm = modelgbm.predict(rescaledTestX)\n",
    "print(mean_squared_error(Y_test, predictionsgbm))"
   ]
  },
  {
   "cell_type": "code",
   "execution_count": 125,
   "metadata": {},
   "outputs": [
    {
     "name": "stdout",
     "output_type": "stream",
     "text": [
      "R-Squared on train dataset=0.9335045654603698\n",
      "R-Squared on test dataset=0.9601972818488523\n"
     ]
    }
   ],
   "source": [
    "#GBM accuracy score\n",
    "modelgbm.fit(rescaledX,Y_train)   \n",
    "print(\"R-Squared on train dataset={}\".format(modelgbm.score(rescaledX,Y_train)))\n",
    "\n",
    "modelgbm.fit(rescaledTestX,Y_test)   \n",
    "print(\"R-Squared on test dataset={}\".format(modelgbm.score(rescaledTestX,Y_test)))"
   ]
  },
  {
   "cell_type": "code",
   "execution_count": 126,
   "metadata": {},
   "outputs": [
    {
     "data": {
      "text/html": [
       "<div>\n",
       "<style scoped>\n",
       "    .dataframe tbody tr th:only-of-type {\n",
       "        vertical-align: middle;\n",
       "    }\n",
       "\n",
       "    .dataframe tbody tr th {\n",
       "        vertical-align: top;\n",
       "    }\n",
       "\n",
       "    .dataframe thead th {\n",
       "        text-align: right;\n",
       "    }\n",
       "</style>\n",
       "<table border=\"1\" class=\"dataframe\">\n",
       "  <thead>\n",
       "    <tr style=\"text-align: right;\">\n",
       "      <th></th>\n",
       "      <th>Org House Price</th>\n",
       "      <th>Pred House Price GBM</th>\n",
       "    </tr>\n",
       "  </thead>\n",
       "  <tbody>\n",
       "    <tr>\n",
       "      <th>358</th>\n",
       "      <td>22.7</td>\n",
       "      <td>19</td>\n",
       "    </tr>\n",
       "    <tr>\n",
       "      <th>197</th>\n",
       "      <td>30.3</td>\n",
       "      <td>29</td>\n",
       "    </tr>\n",
       "    <tr>\n",
       "      <th>48</th>\n",
       "      <td>14.4</td>\n",
       "      <td>17</td>\n",
       "    </tr>\n",
       "    <tr>\n",
       "      <th>450</th>\n",
       "      <td>13.4</td>\n",
       "      <td>13</td>\n",
       "    </tr>\n",
       "    <tr>\n",
       "      <th>469</th>\n",
       "      <td>20.1</td>\n",
       "      <td>18</td>\n",
       "    </tr>\n",
       "  </tbody>\n",
       "</table>\n",
       "</div>"
      ],
      "text/plain": [
       "     Org House Price  Pred House Price GBM\n",
       "358             22.7                    19\n",
       "197             30.3                    29\n",
       "48              14.4                    17\n",
       "450             13.4                    13\n",
       "469             20.1                    18"
      ]
     },
     "execution_count": 126,
     "metadata": {},
     "output_type": "execute_result"
    }
   ],
   "source": [
    "predictionsgbm=predictionsgbm.astype(int)\n",
    "submission_gbm = pd.DataFrame({\n",
    "        \"Org House Price\": Y_test,\n",
    "        \"Pred House Price GBM\": predictionsgbm\n",
    "    })\n",
    "submission_gbm.head(5)"
   ]
  },
  {
   "cell_type": "code",
   "execution_count": 137,
   "metadata": {},
   "outputs": [],
   "source": [
    "#merge 2 dataframes\n",
    "#X_test and submission\n",
    "#X_test.head(2)\n",
    "bigdataGBM = pd.concat([X_test, submission_gbm], axis=1)\n",
    "#bigdataKNN.head(2)\n",
    "#add index\n",
    "bigdataGBM['index']=range(1,len(bigdataGBM)+1)\n",
    "\n",
    "bigdataGBM.head(5)\n",
    "bigdataGBM.to_csv(\"PredictedPriceGBM.csv\", index=False)"
   ]
  },
  {
   "cell_type": "code",
   "execution_count": 138,
   "metadata": {},
   "outputs": [
    {
     "name": "stderr",
     "output_type": "stream",
     "text": [
      "'c' argument looks like a single numeric RGB or RGBA sequence, which should be avoided as value-mapping will have precedence in case its length matches with 'x' & 'y'.  Please use a 2-D array with a single row if you really want to specify the same RGB or RGBA value for all points.\n"
     ]
    },
    {
     "data": {
      "image/png": "[encoded data removed]",
      "text/plain": [
       "<Figure size 432x288 with 1 Axes>"
      ]
     },
     "metadata": {
      "needs_background": "light"
     },
     "output_type": "display_data"
    }
   ],
   "source": [
    "submission_gbm.plot.scatter(x='Org House Price', y=['Pred House Price GBM'])\n",
    "plt.show()"
   ]
  },
  {
   "cell_type": "code",
   "execution_count": 139,
   "metadata": {},
   "outputs": [
    {
     "name": "stderr",
     "output_type": "stream",
     "text": [
      "'c' argument looks like a single numeric RGB or RGBA sequence, which should be avoided as value-mapping will have precedence in case its length matches with 'x' & 'y'.  Please use a 2-D array with a single row if you really want to specify the same RGB or RGBA value for all points.\n"
     ]
    },
    {
     "data": {
      "image/png": "[encoded data removed]",
      "text/plain": [
       "<Figure size 432x288 with 1 Axes>"
      ]
     },
     "metadata": {
      "needs_background": "light"
     },
     "output_type": "display_data"
    }
   ],
   "source": [
    "bigdataGBM.plot.scatter(x='index', y=['Pred House Price GBM'])\n",
    "plt.show()"
   ]
  },
  {
   "cell_type": "markdown",
   "metadata": {},
   "source": [
    "So, with GBM we can predict accuracy of prediction with 96%\n"
   ]
  },
  {
   "cell_type": "markdown",
   "metadata": {},
   "source": [
    "# Tune Decision Tree"
   ]
  },
  {
   "cell_type": "code",
   "execution_count": 140,
   "metadata": {},
   "outputs": [],
   "source": [
    "# Import 'make_scorer', 'DecisionTreeRegressor', and 'GridSearchCV'\n",
    "from sklearn.tree import DecisionTreeRegressor\n",
    "from sklearn.metrics import make_scorer\n",
    "from sklearn.model_selection import GridSearchCV\n",
    "from sklearn.model_selection import ShuffleSplit\n",
    "\n",
    "def fit_model(X, y):\n",
    "    \"\"\" Performs grid search over the 'max_depth' parameter for a \n",
    "        decision tree regressor trained on the input data [X, y]. \"\"\"\n",
    "    \n",
    "    # Create cross-validation sets from the training data\n",
    "    cv_sets = ShuffleSplit(n_splits = 10, test_size = 0.20, random_state = 0)\n",
    "\n",
    "    # Create a decision tree regressor object\n",
    "    regressor = DecisionTreeRegressor(random_state=100)\n",
    "\n",
    "    # Create a dictionary for the parameter 'max_depth' with a range from 1 to 10\n",
    "    params = {'max_depth':np.arange(1,11)}\n",
    "\n",
    "    # Transform 'performance_metric' into a scoring function using 'make_scorer' \n",
    "    scoring_fnc = make_scorer(performance_metric)\n",
    "\n",
    "    #  Create the grid search cv object --> GridSearchCV()\n",
    "    grid = GridSearchCV(estimator=regressor,param_grid=params,scoring=scoring_fnc,cv=cv_sets)\n",
    "\n",
    "    # Fit the grid search object to the data to compute the optimal model\n",
    "    grid = grid.fit(X, y)\n",
    "\n",
    "    # Return the optimal model after fitting the data\n",
    "    return grid.best_estimator_"
   ]
  },
  {
   "cell_type": "markdown",
   "metadata": {},
   "source": [
    "## Optimal Model for Decision Tree\n",
    "What is the maximum depth does the optimal model have?\n",
    "\n"
   ]
  },
  {
   "cell_type": "code",
   "execution_count": 141,
   "metadata": {},
   "outputs": [
    {
     "name": "stdout",
     "output_type": "stream",
     "text": [
      "Parameter 'max_depth' is 2 for the optimal model.\n"
     ]
    }
   ],
   "source": [
    "seed = 40\n",
    "x_train, x_test, y_train, y_test = train_test_split(features4, prices, test_size=0.5, random_state = seed)\n",
    "# Fit the training data to the model using grid search\n",
    "reg = fit_model(x_train, y_train)\n",
    "\n",
    "# Produce the value for 'max_depth'\n",
    "print (\"Parameter 'max_depth' is {} for the optimal model.\".format(reg.get_params()['max_depth']))"
   ]
  },
  {
   "cell_type": "code",
   "execution_count": 142,
   "metadata": {},
   "outputs": [
    {
     "name": "stdout",
     "output_type": "stream",
     "text": [
      "R-Squared on train dataset=0.7806313805842142\n",
      "R-Squared on test dataset=0.8972386145747178\n"
     ]
    }
   ],
   "source": [
    "from sklearn import metrics #metrics module for accuracy calculations\n",
    "dtm1 = DecisionTreeRegressor(max_depth=2,\n",
    "                           min_samples_split=5,\n",
    "                           max_leaf_nodes=10)\n",
    "dtm2 = DecisionTreeRegressor(max_depth=3,\n",
    "                           min_samples_split=5,\n",
    "                           max_leaf_nodes=10)\n",
    "\n",
    "dtm1.fit(x_train,y_train)\n",
    "print(\"R-Squared on train dataset={}\".format(dtm1.score(x_train,y_train)))\n",
    "\n",
    "dtm2.fit(x_test,y_test)   \n",
    "print(\"R-Squared on test dataset={}\".format(dtm2.score(x_test,y_test)))"
   ]
  },
  {
   "cell_type": "markdown",
   "metadata": {},
   "source": [
    "So, prediction error is about 10% on average. Run decision tree for all dataset and add decision tree predictor to a dataframe:"
   ]
  },
  {
   "cell_type": "code",
   "execution_count": 143,
   "metadata": {},
   "outputs": [
    {
     "name": "stdout",
     "output_type": "stream",
     "text": [
      "10.332803156999534\n"
     ]
    }
   ],
   "source": [
    "predictions_dectree = dtm2.predict(x_test)\n",
    "print(mean_squared_error(y_test,predictions_dectree))\n",
    "#print(predictions_dectree)"
   ]
  },
  {
   "cell_type": "code",
   "execution_count": 144,
   "metadata": {},
   "outputs": [
    {
     "data": {
      "text/html": [
       "<div>\n",
       "<style scoped>\n",
       "    .dataframe tbody tr th:only-of-type {\n",
       "        vertical-align: middle;\n",
       "    }\n",
       "\n",
       "    .dataframe tbody tr th {\n",
       "        vertical-align: top;\n",
       "    }\n",
       "\n",
       "    .dataframe thead th {\n",
       "        text-align: right;\n",
       "    }\n",
       "</style>\n",
       "<table border=\"1\" class=\"dataframe\">\n",
       "  <thead>\n",
       "    <tr style=\"text-align: right;\">\n",
       "      <th></th>\n",
       "      <th>Org House Price</th>\n",
       "      <th>Pred House Price dt</th>\n",
       "    </tr>\n",
       "  </thead>\n",
       "  <tbody>\n",
       "    <tr>\n",
       "      <th>358</th>\n",
       "      <td>22.7</td>\n",
       "      <td>20.176316</td>\n",
       "    </tr>\n",
       "    <tr>\n",
       "      <th>197</th>\n",
       "      <td>30.3</td>\n",
       "      <td>23.044000</td>\n",
       "    </tr>\n",
       "    <tr>\n",
       "      <th>48</th>\n",
       "      <td>14.4</td>\n",
       "      <td>17.575000</td>\n",
       "    </tr>\n",
       "    <tr>\n",
       "      <th>450</th>\n",
       "      <td>13.4</td>\n",
       "      <td>12.208333</td>\n",
       "    </tr>\n",
       "    <tr>\n",
       "      <th>469</th>\n",
       "      <td>20.1</td>\n",
       "      <td>20.176316</td>\n",
       "    </tr>\n",
       "  </tbody>\n",
       "</table>\n",
       "</div>"
      ],
      "text/plain": [
       "     Org House Price  Pred House Price dt\n",
       "358             22.7            20.176316\n",
       "197             30.3            23.044000\n",
       "48              14.4            17.575000\n",
       "450             13.4            12.208333\n",
       "469             20.1            20.176316"
      ]
     },
     "execution_count": 144,
     "metadata": {},
     "output_type": "execute_result"
    }
   ],
   "source": [
    "predictionsdt=predictions_dectree.astype(int)\n",
    "submission_dt = pd.DataFrame({\n",
    "        \"Org House Price\": y_test,\n",
    "        \"Pred House Price dt\": predictions_dectree\n",
    "    })\n",
    "submission_dt.head(5)"
   ]
  },
  {
   "cell_type": "code",
   "execution_count": 145,
   "metadata": {},
   "outputs": [],
   "source": [
    "#merge 2 dataframes\n",
    "#X_test and submission\n",
    "#X_test.head(2)\n",
    "bigdataDT = pd.concat([x_test, submission_dt], axis=1)\n",
    "#bigdataKNN.head(2)\n",
    "#add index\n",
    "bigdataDT['index']=range(1,len(bigdataDT)+1)\n",
    "\n",
    "bigdataDT.head(5)\n",
    "bigdataDT.to_csv(\"PredictedPriceDT.csv\", index=False)"
   ]
  },
  {
   "cell_type": "code",
   "execution_count": 146,
   "metadata": {},
   "outputs": [
    {
     "name": "stderr",
     "output_type": "stream",
     "text": [
      "'c' argument looks like a single numeric RGB or RGBA sequence, which should be avoided as value-mapping will have precedence in case its length matches with 'x' & 'y'.  Please use a 2-D array with a single row if you really want to specify the same RGB or RGBA value for all points.\n"
     ]
    },
    {
     "data": {
      "image/png": "[encoded data removed]",
      "text/plain": [
       "<Figure size 432x288 with 1 Axes>"
      ]
     },
     "metadata": {
      "needs_background": "light"
     },
     "output_type": "display_data"
    }
   ],
   "source": [
    "#plot predicted value using decisiontree vs index value\n",
    "submission_dt.plot.scatter(x='Org House Price', y=['Pred House Price dt'])\n",
    "plt.show()"
   ]
  },
  {
   "cell_type": "code",
   "execution_count": 147,
   "metadata": {},
   "outputs": [
    {
     "name": "stderr",
     "output_type": "stream",
     "text": [
      "'c' argument looks like a single numeric RGB or RGBA sequence, which should be avoided as value-mapping will have precedence in case its length matches with 'x' & 'y'.  Please use a 2-D array with a single row if you really want to specify the same RGB or RGBA value for all points.\n"
     ]
    },
    {
     "data": {
      "image/png": "[encoded data removed]",
      "text/plain": [
       "<Figure size 432x288 with 1 Axes>"
      ]
     },
     "metadata": {
      "needs_background": "light"
     },
     "output_type": "display_data"
    }
   ],
   "source": [
    "#plot actual value vs index value\n",
    "bigdataDT.plot.scatter(x='index', y=['Pred House Price dt'])\n",
    "plt.show()"
   ]
  },
  {
   "cell_type": "markdown",
   "metadata": {},
   "source": [
    "## Conclusion\n",
    "\n",
    "By far the best algorithm to predict Boston housing is GBM on scaled data (96% accuracy)"
   ]
  }
 ],
 "metadata": {
  "kernelspec": {
   "display_name": "Python 3",
   "language": "python",
   "name": "python3"
  },
  "language_info": {
   "codemirror_mode": {
    "name": "ipython",
    "version": 3
   },
   "file_extension": ".py",
   "mimetype": "text/x-python",
   "name": "python",
   "nbconvert_exporter": "python",
   "pygments_lexer": "ipython3",
   "version": "3.7.1"
  }
 },
 "nbformat": 4,
 "nbformat_minor": 2
}
